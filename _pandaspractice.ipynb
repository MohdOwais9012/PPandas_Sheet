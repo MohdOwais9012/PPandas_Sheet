{
 "cells": [
  {
   "cell_type": "code",
   "execution_count": 1,
   "id": "b538c633",
   "metadata": {},
   "outputs": [],
   "source": [
    "import numpy as np\n",
    "import pandas as pd"
   ]
  },
  {
   "cell_type": "code",
   "execution_count": 2,
   "id": "dbf845dd",
   "metadata": {},
   "outputs": [],
   "source": [
    "dict1 = {\n",
    "    \"name\":['owais', 'aadish', 'saif', 'anas'],\n",
    "    \"marks\":[99, 45, 29, 41],\n",
    "    \"city\":['saharanpur', 'shamli', 'delhi', 'deoband']\n",
    "    \n",
    "}"
   ]
  },
  {
   "cell_type": "code",
   "execution_count": 3,
   "id": "654b208f",
   "metadata": {},
   "outputs": [],
   "source": [
    "df = pd.DataFrame(dict1)"
   ]
  },
  {
   "cell_type": "code",
   "execution_count": 4,
   "id": "95ce3d47",
   "metadata": {},
   "outputs": [
    {
     "data": {
      "text/html": [
       "<div>\n",
       "<style scoped>\n",
       "    .dataframe tbody tr th:only-of-type {\n",
       "        vertical-align: middle;\n",
       "    }\n",
       "\n",
       "    .dataframe tbody tr th {\n",
       "        vertical-align: top;\n",
       "    }\n",
       "\n",
       "    .dataframe thead th {\n",
       "        text-align: right;\n",
       "    }\n",
       "</style>\n",
       "<table border=\"1\" class=\"dataframe\">\n",
       "  <thead>\n",
       "    <tr style=\"text-align: right;\">\n",
       "      <th></th>\n",
       "      <th>name</th>\n",
       "      <th>marks</th>\n",
       "      <th>city</th>\n",
       "    </tr>\n",
       "  </thead>\n",
       "  <tbody>\n",
       "    <tr>\n",
       "      <th>0</th>\n",
       "      <td>owais</td>\n",
       "      <td>99</td>\n",
       "      <td>saharanpur</td>\n",
       "    </tr>\n",
       "    <tr>\n",
       "      <th>1</th>\n",
       "      <td>aadish</td>\n",
       "      <td>45</td>\n",
       "      <td>shamli</td>\n",
       "    </tr>\n",
       "    <tr>\n",
       "      <th>2</th>\n",
       "      <td>saif</td>\n",
       "      <td>29</td>\n",
       "      <td>delhi</td>\n",
       "    </tr>\n",
       "    <tr>\n",
       "      <th>3</th>\n",
       "      <td>anas</td>\n",
       "      <td>41</td>\n",
       "      <td>deoband</td>\n",
       "    </tr>\n",
       "  </tbody>\n",
       "</table>\n",
       "</div>"
      ],
      "text/plain": [
       "     name  marks        city\n",
       "0   owais     99  saharanpur\n",
       "1  aadish     45      shamli\n",
       "2    saif     29       delhi\n",
       "3    anas     41     deoband"
      ]
     },
     "execution_count": 4,
     "metadata": {},
     "output_type": "execute_result"
    }
   ],
   "source": [
    "df"
   ]
  },
  {
   "cell_type": "code",
   "execution_count": 5,
   "id": "b3ee8da2",
   "metadata": {},
   "outputs": [],
   "source": [
    "df.to_csv('freind.csv')"
   ]
  },
  {
   "cell_type": "code",
   "execution_count": 6,
   "id": "6470f5d0",
   "metadata": {},
   "outputs": [],
   "source": [
    "df.to_csv('friends_indefalse_csv', index=False)"
   ]
  },
  {
   "cell_type": "code",
   "execution_count": 10,
   "id": "5536e384",
   "metadata": {},
   "outputs": [
    {
     "data": {
      "text/html": [
       "<div>\n",
       "<style scoped>\n",
       "    .dataframe tbody tr th:only-of-type {\n",
       "        vertical-align: middle;\n",
       "    }\n",
       "\n",
       "    .dataframe tbody tr th {\n",
       "        vertical-align: top;\n",
       "    }\n",
       "\n",
       "    .dataframe thead th {\n",
       "        text-align: right;\n",
       "    }\n",
       "</style>\n",
       "<table border=\"1\" class=\"dataframe\">\n",
       "  <thead>\n",
       "    <tr style=\"text-align: right;\">\n",
       "      <th></th>\n",
       "      <th>name</th>\n",
       "      <th>marks</th>\n",
       "      <th>city</th>\n",
       "    </tr>\n",
       "  </thead>\n",
       "  <tbody>\n",
       "    <tr>\n",
       "      <th>0</th>\n",
       "      <td>owais</td>\n",
       "      <td>99</td>\n",
       "      <td>saharanpur</td>\n",
       "    </tr>\n",
       "    <tr>\n",
       "      <th>1</th>\n",
       "      <td>aadish</td>\n",
       "      <td>45</td>\n",
       "      <td>shamli</td>\n",
       "    </tr>\n",
       "    <tr>\n",
       "      <th>2</th>\n",
       "      <td>saif</td>\n",
       "      <td>29</td>\n",
       "      <td>delhi</td>\n",
       "    </tr>\n",
       "  </tbody>\n",
       "</table>\n",
       "</div>"
      ],
      "text/plain": [
       "     name  marks        city\n",
       "0   owais     99  saharanpur\n",
       "1  aadish     45      shamli\n",
       "2    saif     29       delhi"
      ]
     },
     "execution_count": 10,
     "metadata": {},
     "output_type": "execute_result"
    }
   ],
   "source": [
    "df.head(3)"
   ]
  },
  {
   "cell_type": "code",
   "execution_count": 11,
   "id": "67c38404",
   "metadata": {},
   "outputs": [
    {
     "data": {
      "text/html": [
       "<div>\n",
       "<style scoped>\n",
       "    .dataframe tbody tr th:only-of-type {\n",
       "        vertical-align: middle;\n",
       "    }\n",
       "\n",
       "    .dataframe tbody tr th {\n",
       "        vertical-align: top;\n",
       "    }\n",
       "\n",
       "    .dataframe thead th {\n",
       "        text-align: right;\n",
       "    }\n",
       "</style>\n",
       "<table border=\"1\" class=\"dataframe\">\n",
       "  <thead>\n",
       "    <tr style=\"text-align: right;\">\n",
       "      <th></th>\n",
       "      <th>marks</th>\n",
       "    </tr>\n",
       "  </thead>\n",
       "  <tbody>\n",
       "    <tr>\n",
       "      <th>count</th>\n",
       "      <td>4.000000</td>\n",
       "    </tr>\n",
       "    <tr>\n",
       "      <th>mean</th>\n",
       "      <td>53.500000</td>\n",
       "    </tr>\n",
       "    <tr>\n",
       "      <th>std</th>\n",
       "      <td>31.085902</td>\n",
       "    </tr>\n",
       "    <tr>\n",
       "      <th>min</th>\n",
       "      <td>29.000000</td>\n",
       "    </tr>\n",
       "    <tr>\n",
       "      <th>25%</th>\n",
       "      <td>38.000000</td>\n",
       "    </tr>\n",
       "    <tr>\n",
       "      <th>50%</th>\n",
       "      <td>43.000000</td>\n",
       "    </tr>\n",
       "    <tr>\n",
       "      <th>75%</th>\n",
       "      <td>58.500000</td>\n",
       "    </tr>\n",
       "    <tr>\n",
       "      <th>max</th>\n",
       "      <td>99.000000</td>\n",
       "    </tr>\n",
       "  </tbody>\n",
       "</table>\n",
       "</div>"
      ],
      "text/plain": [
       "           marks\n",
       "count   4.000000\n",
       "mean   53.500000\n",
       "std    31.085902\n",
       "min    29.000000\n",
       "25%    38.000000\n",
       "50%    43.000000\n",
       "75%    58.500000\n",
       "max    99.000000"
      ]
     },
     "execution_count": 11,
     "metadata": {},
     "output_type": "execute_result"
    }
   ],
   "source": [
    "df.describe()"
   ]
  },
  {
   "cell_type": "code",
   "execution_count": 13,
   "id": "5add8df3",
   "metadata": {},
   "outputs": [
    {
     "data": {
      "text/html": [
       "<div>\n",
       "<style scoped>\n",
       "    .dataframe tbody tr th:only-of-type {\n",
       "        vertical-align: middle;\n",
       "    }\n",
       "\n",
       "    .dataframe tbody tr th {\n",
       "        vertical-align: top;\n",
       "    }\n",
       "\n",
       "    .dataframe thead th {\n",
       "        text-align: right;\n",
       "    }\n",
       "</style>\n",
       "<table border=\"1\" class=\"dataframe\">\n",
       "  <thead>\n",
       "    <tr style=\"text-align: right;\">\n",
       "      <th></th>\n",
       "      <th>name</th>\n",
       "      <th>marks</th>\n",
       "      <th>city</th>\n",
       "    </tr>\n",
       "  </thead>\n",
       "  <tbody>\n",
       "    <tr>\n",
       "      <th>3</th>\n",
       "      <td>anas</td>\n",
       "      <td>41</td>\n",
       "      <td>deoband</td>\n",
       "    </tr>\n",
       "  </tbody>\n",
       "</table>\n",
       "</div>"
      ],
      "text/plain": [
       "   name  marks     city\n",
       "3  anas     41  deoband"
      ]
     },
     "execution_count": 13,
     "metadata": {},
     "output_type": "execute_result"
    }
   ],
   "source": [
    "df.tail(1)"
   ]
  },
  {
   "cell_type": "code",
   "execution_count": 20,
   "id": "7f29cfae",
   "metadata": {},
   "outputs": [
    {
     "data": {
      "text/plain": [
       "99"
      ]
     },
     "execution_count": 20,
     "metadata": {},
     "output_type": "execute_result"
    }
   ],
   "source": [
    "df['marks'][0]"
   ]
  },
  {
   "cell_type": "code",
   "execution_count": 22,
   "id": "c7dd076c",
   "metadata": {},
   "outputs": [
    {
     "name": "stderr",
     "output_type": "stream",
     "text": [
      "C:\\Users\\mohdo\\AppData\\Local\\Temp\\ipykernel_18236\\3127986578.py:1: SettingWithCopyWarning: \n",
      "A value is trying to be set on a copy of a slice from a DataFrame\n",
      "\n",
      "See the caveats in the documentation: https://pandas.pydata.org/pandas-docs/stable/user_guide/indexing.html#returning-a-view-versus-a-copy\n",
      "  df['marks'][0] = 40\n"
     ]
    }
   ],
   "source": [
    "df['marks'][0] = 40"
   ]
  },
  {
   "cell_type": "code",
   "execution_count": 23,
   "id": "b87b2782",
   "metadata": {},
   "outputs": [
    {
     "data": {
      "text/html": [
       "<div>\n",
       "<style scoped>\n",
       "    .dataframe tbody tr th:only-of-type {\n",
       "        vertical-align: middle;\n",
       "    }\n",
       "\n",
       "    .dataframe tbody tr th {\n",
       "        vertical-align: top;\n",
       "    }\n",
       "\n",
       "    .dataframe thead th {\n",
       "        text-align: right;\n",
       "    }\n",
       "</style>\n",
       "<table border=\"1\" class=\"dataframe\">\n",
       "  <thead>\n",
       "    <tr style=\"text-align: right;\">\n",
       "      <th></th>\n",
       "      <th>name</th>\n",
       "      <th>marks</th>\n",
       "      <th>city</th>\n",
       "    </tr>\n",
       "  </thead>\n",
       "  <tbody>\n",
       "    <tr>\n",
       "      <th>0</th>\n",
       "      <td>owais</td>\n",
       "      <td>40</td>\n",
       "      <td>saharanpur</td>\n",
       "    </tr>\n",
       "    <tr>\n",
       "      <th>1</th>\n",
       "      <td>aadish</td>\n",
       "      <td>45</td>\n",
       "      <td>shamli</td>\n",
       "    </tr>\n",
       "    <tr>\n",
       "      <th>2</th>\n",
       "      <td>saif</td>\n",
       "      <td>29</td>\n",
       "      <td>delhi</td>\n",
       "    </tr>\n",
       "    <tr>\n",
       "      <th>3</th>\n",
       "      <td>anas</td>\n",
       "      <td>41</td>\n",
       "      <td>deoband</td>\n",
       "    </tr>\n",
       "  </tbody>\n",
       "</table>\n",
       "</div>"
      ],
      "text/plain": [
       "     name  marks        city\n",
       "0   owais     40  saharanpur\n",
       "1  aadish     45      shamli\n",
       "2    saif     29       delhi\n",
       "3    anas     41     deoband"
      ]
     },
     "execution_count": 23,
     "metadata": {},
     "output_type": "execute_result"
    }
   ],
   "source": [
    "df"
   ]
  },
  {
   "cell_type": "code",
   "execution_count": 28,
   "id": "e64c3bbe",
   "metadata": {},
   "outputs": [],
   "source": [
    "df.index = ['first', 'second', 'third', 'fourth']"
   ]
  },
  {
   "cell_type": "code",
   "execution_count": 29,
   "id": "6066a714",
   "metadata": {},
   "outputs": [
    {
     "data": {
      "text/html": [
       "<div>\n",
       "<style scoped>\n",
       "    .dataframe tbody tr th:only-of-type {\n",
       "        vertical-align: middle;\n",
       "    }\n",
       "\n",
       "    .dataframe tbody tr th {\n",
       "        vertical-align: top;\n",
       "    }\n",
       "\n",
       "    .dataframe thead th {\n",
       "        text-align: right;\n",
       "    }\n",
       "</style>\n",
       "<table border=\"1\" class=\"dataframe\">\n",
       "  <thead>\n",
       "    <tr style=\"text-align: right;\">\n",
       "      <th></th>\n",
       "      <th>name</th>\n",
       "      <th>marks</th>\n",
       "      <th>city</th>\n",
       "    </tr>\n",
       "  </thead>\n",
       "  <tbody>\n",
       "    <tr>\n",
       "      <th>first</th>\n",
       "      <td>owais</td>\n",
       "      <td>40</td>\n",
       "      <td>saharanpur</td>\n",
       "    </tr>\n",
       "    <tr>\n",
       "      <th>second</th>\n",
       "      <td>aadish</td>\n",
       "      <td>45</td>\n",
       "      <td>shamli</td>\n",
       "    </tr>\n",
       "    <tr>\n",
       "      <th>third</th>\n",
       "      <td>saif</td>\n",
       "      <td>29</td>\n",
       "      <td>delhi</td>\n",
       "    </tr>\n",
       "    <tr>\n",
       "      <th>fourth</th>\n",
       "      <td>anas</td>\n",
       "      <td>41</td>\n",
       "      <td>deoband</td>\n",
       "    </tr>\n",
       "  </tbody>\n",
       "</table>\n",
       "</div>"
      ],
      "text/plain": [
       "          name  marks        city\n",
       "first    owais     40  saharanpur\n",
       "second  aadish     45      shamli\n",
       "third     saif     29       delhi\n",
       "fourth    anas     41     deoband"
      ]
     },
     "execution_count": 29,
     "metadata": {},
     "output_type": "execute_result"
    }
   ],
   "source": [
    "df"
   ]
  },
  {
   "cell_type": "code",
   "execution_count": 30,
   "id": "0d8dc8b7",
   "metadata": {},
   "outputs": [],
   "source": [
    "ser = pd.Series(np.random.rand(35))"
   ]
  },
  {
   "cell_type": "code",
   "execution_count": 32,
   "id": "bbb747de",
   "metadata": {},
   "outputs": [
    {
     "data": {
      "text/plain": [
       "pandas.core.series.Series"
      ]
     },
     "execution_count": 32,
     "metadata": {},
     "output_type": "execute_result"
    }
   ],
   "source": [
    "type(ser)"
   ]
  },
  {
   "cell_type": "code",
   "execution_count": 34,
   "id": "7d16c713",
   "metadata": {},
   "outputs": [],
   "source": [
    "newdf = pd.DataFrame(np.random.rand(334, 5), index=np.arange(334))"
   ]
  },
  {
   "cell_type": "code",
   "execution_count": 36,
   "id": "d79f1d6b",
   "metadata": {},
   "outputs": [
    {
     "data": {
      "text/html": [
       "<div>\n",
       "<style scoped>\n",
       "    .dataframe tbody tr th:only-of-type {\n",
       "        vertical-align: middle;\n",
       "    }\n",
       "\n",
       "    .dataframe tbody tr th {\n",
       "        vertical-align: top;\n",
       "    }\n",
       "\n",
       "    .dataframe thead th {\n",
       "        text-align: right;\n",
       "    }\n",
       "</style>\n",
       "<table border=\"1\" class=\"dataframe\">\n",
       "  <thead>\n",
       "    <tr style=\"text-align: right;\">\n",
       "      <th></th>\n",
       "      <th>0</th>\n",
       "      <th>1</th>\n",
       "      <th>2</th>\n",
       "      <th>3</th>\n",
       "      <th>4</th>\n",
       "    </tr>\n",
       "  </thead>\n",
       "  <tbody>\n",
       "    <tr>\n",
       "      <th>0</th>\n",
       "      <td>0.406057</td>\n",
       "      <td>0.828904</td>\n",
       "      <td>0.349962</td>\n",
       "      <td>0.227394</td>\n",
       "      <td>0.905384</td>\n",
       "    </tr>\n",
       "    <tr>\n",
       "      <th>1</th>\n",
       "      <td>0.658990</td>\n",
       "      <td>0.258113</td>\n",
       "      <td>0.291691</td>\n",
       "      <td>0.751343</td>\n",
       "      <td>0.473050</td>\n",
       "    </tr>\n",
       "    <tr>\n",
       "      <th>2</th>\n",
       "      <td>0.456946</td>\n",
       "      <td>0.939641</td>\n",
       "      <td>0.246010</td>\n",
       "      <td>0.253220</td>\n",
       "      <td>0.071133</td>\n",
       "    </tr>\n",
       "    <tr>\n",
       "      <th>3</th>\n",
       "      <td>0.226815</td>\n",
       "      <td>0.407433</td>\n",
       "      <td>0.185034</td>\n",
       "      <td>0.375730</td>\n",
       "      <td>0.927262</td>\n",
       "    </tr>\n",
       "    <tr>\n",
       "      <th>4</th>\n",
       "      <td>0.182449</td>\n",
       "      <td>0.840120</td>\n",
       "      <td>0.202041</td>\n",
       "      <td>0.731245</td>\n",
       "      <td>0.243812</td>\n",
       "    </tr>\n",
       "    <tr>\n",
       "      <th>...</th>\n",
       "      <td>...</td>\n",
       "      <td>...</td>\n",
       "      <td>...</td>\n",
       "      <td>...</td>\n",
       "      <td>...</td>\n",
       "    </tr>\n",
       "    <tr>\n",
       "      <th>329</th>\n",
       "      <td>0.579985</td>\n",
       "      <td>0.856536</td>\n",
       "      <td>0.293418</td>\n",
       "      <td>0.434234</td>\n",
       "      <td>0.237632</td>\n",
       "    </tr>\n",
       "    <tr>\n",
       "      <th>330</th>\n",
       "      <td>0.358726</td>\n",
       "      <td>0.367792</td>\n",
       "      <td>0.566118</td>\n",
       "      <td>0.154135</td>\n",
       "      <td>0.088266</td>\n",
       "    </tr>\n",
       "    <tr>\n",
       "      <th>331</th>\n",
       "      <td>0.289301</td>\n",
       "      <td>0.213840</td>\n",
       "      <td>0.381655</td>\n",
       "      <td>0.319281</td>\n",
       "      <td>0.285192</td>\n",
       "    </tr>\n",
       "    <tr>\n",
       "      <th>332</th>\n",
       "      <td>0.511930</td>\n",
       "      <td>0.168148</td>\n",
       "      <td>0.333518</td>\n",
       "      <td>0.921157</td>\n",
       "      <td>0.253060</td>\n",
       "    </tr>\n",
       "    <tr>\n",
       "      <th>333</th>\n",
       "      <td>0.069186</td>\n",
       "      <td>0.382606</td>\n",
       "      <td>0.124989</td>\n",
       "      <td>0.689536</td>\n",
       "      <td>0.037331</td>\n",
       "    </tr>\n",
       "  </tbody>\n",
       "</table>\n",
       "<p>334 rows × 5 columns</p>\n",
       "</div>"
      ],
      "text/plain": [
       "            0         1         2         3         4\n",
       "0    0.406057  0.828904  0.349962  0.227394  0.905384\n",
       "1    0.658990  0.258113  0.291691  0.751343  0.473050\n",
       "2    0.456946  0.939641  0.246010  0.253220  0.071133\n",
       "3    0.226815  0.407433  0.185034  0.375730  0.927262\n",
       "4    0.182449  0.840120  0.202041  0.731245  0.243812\n",
       "..        ...       ...       ...       ...       ...\n",
       "329  0.579985  0.856536  0.293418  0.434234  0.237632\n",
       "330  0.358726  0.367792  0.566118  0.154135  0.088266\n",
       "331  0.289301  0.213840  0.381655  0.319281  0.285192\n",
       "332  0.511930  0.168148  0.333518  0.921157  0.253060\n",
       "333  0.069186  0.382606  0.124989  0.689536  0.037331\n",
       "\n",
       "[334 rows x 5 columns]"
      ]
     },
     "execution_count": 36,
     "metadata": {},
     "output_type": "execute_result"
    }
   ],
   "source": [
    "newdf "
   ]
  },
  {
   "cell_type": "code",
   "execution_count": 37,
   "id": "89a014c2",
   "metadata": {},
   "outputs": [
    {
     "data": {
      "text/plain": [
       "pandas.core.frame.DataFrame"
      ]
     },
     "execution_count": 37,
     "metadata": {},
     "output_type": "execute_result"
    }
   ],
   "source": [
    "type(newdf)"
   ]
  },
  {
   "cell_type": "code",
   "execution_count": 38,
   "id": "a93cc494",
   "metadata": {},
   "outputs": [
    {
     "data": {
      "text/html": [
       "<div>\n",
       "<style scoped>\n",
       "    .dataframe tbody tr th:only-of-type {\n",
       "        vertical-align: middle;\n",
       "    }\n",
       "\n",
       "    .dataframe tbody tr th {\n",
       "        vertical-align: top;\n",
       "    }\n",
       "\n",
       "    .dataframe thead th {\n",
       "        text-align: right;\n",
       "    }\n",
       "</style>\n",
       "<table border=\"1\" class=\"dataframe\">\n",
       "  <thead>\n",
       "    <tr style=\"text-align: right;\">\n",
       "      <th></th>\n",
       "      <th>0</th>\n",
       "      <th>1</th>\n",
       "      <th>2</th>\n",
       "      <th>3</th>\n",
       "      <th>4</th>\n",
       "    </tr>\n",
       "  </thead>\n",
       "  <tbody>\n",
       "    <tr>\n",
       "      <th>count</th>\n",
       "      <td>334.000000</td>\n",
       "      <td>334.000000</td>\n",
       "      <td>334.000000</td>\n",
       "      <td>334.000000</td>\n",
       "      <td>334.000000</td>\n",
       "    </tr>\n",
       "    <tr>\n",
       "      <th>mean</th>\n",
       "      <td>0.491061</td>\n",
       "      <td>0.497837</td>\n",
       "      <td>0.496862</td>\n",
       "      <td>0.511861</td>\n",
       "      <td>0.502281</td>\n",
       "    </tr>\n",
       "    <tr>\n",
       "      <th>std</th>\n",
       "      <td>0.282634</td>\n",
       "      <td>0.285075</td>\n",
       "      <td>0.290054</td>\n",
       "      <td>0.287299</td>\n",
       "      <td>0.281337</td>\n",
       "    </tr>\n",
       "    <tr>\n",
       "      <th>min</th>\n",
       "      <td>0.000023</td>\n",
       "      <td>0.004510</td>\n",
       "      <td>0.004564</td>\n",
       "      <td>0.000139</td>\n",
       "      <td>0.008463</td>\n",
       "    </tr>\n",
       "    <tr>\n",
       "      <th>25%</th>\n",
       "      <td>0.262754</td>\n",
       "      <td>0.258492</td>\n",
       "      <td>0.247586</td>\n",
       "      <td>0.267522</td>\n",
       "      <td>0.263310</td>\n",
       "    </tr>\n",
       "    <tr>\n",
       "      <th>50%</th>\n",
       "      <td>0.457338</td>\n",
       "      <td>0.474110</td>\n",
       "      <td>0.494779</td>\n",
       "      <td>0.507764</td>\n",
       "      <td>0.494423</td>\n",
       "    </tr>\n",
       "    <tr>\n",
       "      <th>75%</th>\n",
       "      <td>0.718460</td>\n",
       "      <td>0.725228</td>\n",
       "      <td>0.747452</td>\n",
       "      <td>0.744123</td>\n",
       "      <td>0.739719</td>\n",
       "    </tr>\n",
       "    <tr>\n",
       "      <th>max</th>\n",
       "      <td>0.996147</td>\n",
       "      <td>0.999783</td>\n",
       "      <td>0.999983</td>\n",
       "      <td>0.998243</td>\n",
       "      <td>0.999942</td>\n",
       "    </tr>\n",
       "  </tbody>\n",
       "</table>\n",
       "</div>"
      ],
      "text/plain": [
       "                0           1           2           3           4\n",
       "count  334.000000  334.000000  334.000000  334.000000  334.000000\n",
       "mean     0.491061    0.497837    0.496862    0.511861    0.502281\n",
       "std      0.282634    0.285075    0.290054    0.287299    0.281337\n",
       "min      0.000023    0.004510    0.004564    0.000139    0.008463\n",
       "25%      0.262754    0.258492    0.247586    0.267522    0.263310\n",
       "50%      0.457338    0.474110    0.494779    0.507764    0.494423\n",
       "75%      0.718460    0.725228    0.747452    0.744123    0.739719\n",
       "max      0.996147    0.999783    0.999983    0.998243    0.999942"
      ]
     },
     "execution_count": 38,
     "metadata": {},
     "output_type": "execute_result"
    }
   ],
   "source": [
    "newdf.describe()"
   ]
  },
  {
   "cell_type": "code",
   "execution_count": 39,
   "id": "8229b53f",
   "metadata": {},
   "outputs": [
    {
     "data": {
      "text/plain": [
       "0    float64\n",
       "1    float64\n",
       "2    float64\n",
       "3    float64\n",
       "4    float64\n",
       "dtype: object"
      ]
     },
     "execution_count": 39,
     "metadata": {},
     "output_type": "execute_result"
    }
   ],
   "source": [
    "newdf.dtypes"
   ]
  },
  {
   "cell_type": "code",
   "execution_count": 40,
   "id": "5e337333",
   "metadata": {},
   "outputs": [],
   "source": [
    "newdf[0][0] = \"owais\""
   ]
  },
  {
   "cell_type": "code",
   "execution_count": 41,
   "id": "d404ca2b",
   "metadata": {},
   "outputs": [
    {
     "data": {
      "text/html": [
       "<div>\n",
       "<style scoped>\n",
       "    .dataframe tbody tr th:only-of-type {\n",
       "        vertical-align: middle;\n",
       "    }\n",
       "\n",
       "    .dataframe tbody tr th {\n",
       "        vertical-align: top;\n",
       "    }\n",
       "\n",
       "    .dataframe thead th {\n",
       "        text-align: right;\n",
       "    }\n",
       "</style>\n",
       "<table border=\"1\" class=\"dataframe\">\n",
       "  <thead>\n",
       "    <tr style=\"text-align: right;\">\n",
       "      <th></th>\n",
       "      <th>0</th>\n",
       "      <th>1</th>\n",
       "      <th>2</th>\n",
       "      <th>3</th>\n",
       "      <th>4</th>\n",
       "    </tr>\n",
       "  </thead>\n",
       "  <tbody>\n",
       "    <tr>\n",
       "      <th>0</th>\n",
       "      <td>owais</td>\n",
       "      <td>0.828904</td>\n",
       "      <td>0.349962</td>\n",
       "      <td>0.227394</td>\n",
       "      <td>0.905384</td>\n",
       "    </tr>\n",
       "    <tr>\n",
       "      <th>1</th>\n",
       "      <td>0.65899</td>\n",
       "      <td>0.258113</td>\n",
       "      <td>0.291691</td>\n",
       "      <td>0.751343</td>\n",
       "      <td>0.473050</td>\n",
       "    </tr>\n",
       "    <tr>\n",
       "      <th>2</th>\n",
       "      <td>0.456946</td>\n",
       "      <td>0.939641</td>\n",
       "      <td>0.246010</td>\n",
       "      <td>0.253220</td>\n",
       "      <td>0.071133</td>\n",
       "    </tr>\n",
       "    <tr>\n",
       "      <th>3</th>\n",
       "      <td>0.226815</td>\n",
       "      <td>0.407433</td>\n",
       "      <td>0.185034</td>\n",
       "      <td>0.375730</td>\n",
       "      <td>0.927262</td>\n",
       "    </tr>\n",
       "    <tr>\n",
       "      <th>4</th>\n",
       "      <td>0.182449</td>\n",
       "      <td>0.840120</td>\n",
       "      <td>0.202041</td>\n",
       "      <td>0.731245</td>\n",
       "      <td>0.243812</td>\n",
       "    </tr>\n",
       "  </tbody>\n",
       "</table>\n",
       "</div>"
      ],
      "text/plain": [
       "          0         1         2         3         4\n",
       "0     owais  0.828904  0.349962  0.227394  0.905384\n",
       "1   0.65899  0.258113  0.291691  0.751343  0.473050\n",
       "2  0.456946  0.939641  0.246010  0.253220  0.071133\n",
       "3  0.226815  0.407433  0.185034  0.375730  0.927262\n",
       "4  0.182449  0.840120  0.202041  0.731245  0.243812"
      ]
     },
     "execution_count": 41,
     "metadata": {},
     "output_type": "execute_result"
    }
   ],
   "source": [
    "newdf.head()"
   ]
  },
  {
   "cell_type": "code",
   "execution_count": 44,
   "id": "2701a778",
   "metadata": {},
   "outputs": [
    {
     "data": {
      "text/plain": [
       "0     object\n",
       "1    float64\n",
       "2    float64\n",
       "3    float64\n",
       "4    float64\n",
       "dtype: object"
      ]
     },
     "execution_count": 44,
     "metadata": {},
     "output_type": "execute_result"
    }
   ],
   "source": [
    "newdf.dtypes"
   ]
  },
  {
   "cell_type": "code",
   "execution_count": 45,
   "id": "f98fdc28",
   "metadata": {},
   "outputs": [
    {
     "data": {
      "text/plain": [
       "Int64Index([  0,   1,   2,   3,   4,   5,   6,   7,   8,   9,\n",
       "            ...\n",
       "            324, 325, 326, 327, 328, 329, 330, 331, 332, 333],\n",
       "           dtype='int64', length=334)"
      ]
     },
     "execution_count": 45,
     "metadata": {},
     "output_type": "execute_result"
    }
   ],
   "source": [
    "newdf.index"
   ]
  },
  {
   "cell_type": "code",
   "execution_count": 46,
   "id": "dae0060e",
   "metadata": {},
   "outputs": [
    {
     "data": {
      "text/plain": [
       "RangeIndex(start=0, stop=5, step=1)"
      ]
     },
     "execution_count": 46,
     "metadata": {},
     "output_type": "execute_result"
    }
   ],
   "source": [
    "newdf.columns"
   ]
  },
  {
   "cell_type": "code",
   "execution_count": 47,
   "id": "94f4fe09",
   "metadata": {},
   "outputs": [
    {
     "data": {
      "text/plain": [
       "array([['owais', 0.8289037030181055, 0.34996199436487463,\n",
       "        0.2273939987245398, 0.9053839978063243],\n",
       "       [0.658989912482723, 0.2581131352097247, 0.29169142889917654,\n",
       "        0.7513426805113009, 0.4730496652627766],\n",
       "       [0.456946297288912, 0.9396412146542924, 0.2460098380791419,\n",
       "        0.25321950429236817, 0.07113321851967491],\n",
       "       ...,\n",
       "       [0.28930111530717106, 0.21383994975203424, 0.38165533988520495,\n",
       "        0.3192805642255192, 0.2851924686641554],\n",
       "       [0.5119295856161957, 0.16814786169460172, 0.3335176502773607,\n",
       "        0.9211570204870334, 0.2530597844012916],\n",
       "       [0.06918607383558972, 0.3826064404067334, 0.12498896628706191,\n",
       "        0.6895358147448238, 0.037331114383974184]], dtype=object)"
      ]
     },
     "execution_count": 47,
     "metadata": {},
     "output_type": "execute_result"
    }
   ],
   "source": [
    "newdf.to_numpy()"
   ]
  },
  {
   "cell_type": "code",
   "execution_count": 48,
   "id": "307308be",
   "metadata": {},
   "outputs": [],
   "source": [
    "newdf[0][0] = 34"
   ]
  },
  {
   "cell_type": "code",
   "execution_count": 50,
   "id": "938b35c2",
   "metadata": {},
   "outputs": [
    {
     "data": {
      "text/html": [
       "<div>\n",
       "<style scoped>\n",
       "    .dataframe tbody tr th:only-of-type {\n",
       "        vertical-align: middle;\n",
       "    }\n",
       "\n",
       "    .dataframe tbody tr th {\n",
       "        vertical-align: top;\n",
       "    }\n",
       "\n",
       "    .dataframe thead th {\n",
       "        text-align: right;\n",
       "    }\n",
       "</style>\n",
       "<table border=\"1\" class=\"dataframe\">\n",
       "  <thead>\n",
       "    <tr style=\"text-align: right;\">\n",
       "      <th></th>\n",
       "      <th>0</th>\n",
       "      <th>1</th>\n",
       "      <th>2</th>\n",
       "      <th>3</th>\n",
       "      <th>4</th>\n",
       "    </tr>\n",
       "  </thead>\n",
       "  <tbody>\n",
       "    <tr>\n",
       "      <th>0</th>\n",
       "      <td>34</td>\n",
       "      <td>0.828904</td>\n",
       "      <td>0.349962</td>\n",
       "      <td>0.227394</td>\n",
       "      <td>0.905384</td>\n",
       "    </tr>\n",
       "    <tr>\n",
       "      <th>1</th>\n",
       "      <td>0.65899</td>\n",
       "      <td>0.258113</td>\n",
       "      <td>0.291691</td>\n",
       "      <td>0.751343</td>\n",
       "      <td>0.473050</td>\n",
       "    </tr>\n",
       "    <tr>\n",
       "      <th>2</th>\n",
       "      <td>0.456946</td>\n",
       "      <td>0.939641</td>\n",
       "      <td>0.246010</td>\n",
       "      <td>0.253220</td>\n",
       "      <td>0.071133</td>\n",
       "    </tr>\n",
       "    <tr>\n",
       "      <th>3</th>\n",
       "      <td>0.226815</td>\n",
       "      <td>0.407433</td>\n",
       "      <td>0.185034</td>\n",
       "      <td>0.375730</td>\n",
       "      <td>0.927262</td>\n",
       "    </tr>\n",
       "    <tr>\n",
       "      <th>4</th>\n",
       "      <td>0.182449</td>\n",
       "      <td>0.840120</td>\n",
       "      <td>0.202041</td>\n",
       "      <td>0.731245</td>\n",
       "      <td>0.243812</td>\n",
       "    </tr>\n",
       "  </tbody>\n",
       "</table>\n",
       "</div>"
      ],
      "text/plain": [
       "          0         1         2         3         4\n",
       "0        34  0.828904  0.349962  0.227394  0.905384\n",
       "1   0.65899  0.258113  0.291691  0.751343  0.473050\n",
       "2  0.456946  0.939641  0.246010  0.253220  0.071133\n",
       "3  0.226815  0.407433  0.185034  0.375730  0.927262\n",
       "4  0.182449  0.840120  0.202041  0.731245  0.243812"
      ]
     },
     "execution_count": 50,
     "metadata": {},
     "output_type": "execute_result"
    }
   ],
   "source": [
    "newdf.head()"
   ]
  },
  {
   "cell_type": "code",
   "execution_count": 51,
   "id": "cc6d7ff3",
   "metadata": {},
   "outputs": [
    {
     "data": {
      "text/html": [
       "<div>\n",
       "<style scoped>\n",
       "    .dataframe tbody tr th:only-of-type {\n",
       "        vertical-align: middle;\n",
       "    }\n",
       "\n",
       "    .dataframe tbody tr th {\n",
       "        vertical-align: top;\n",
       "    }\n",
       "\n",
       "    .dataframe thead th {\n",
       "        text-align: right;\n",
       "    }\n",
       "</style>\n",
       "<table border=\"1\" class=\"dataframe\">\n",
       "  <thead>\n",
       "    <tr style=\"text-align: right;\">\n",
       "      <th></th>\n",
       "      <th>0</th>\n",
       "      <th>1</th>\n",
       "      <th>2</th>\n",
       "      <th>3</th>\n",
       "      <th>4</th>\n",
       "      <th>5</th>\n",
       "      <th>6</th>\n",
       "      <th>7</th>\n",
       "      <th>8</th>\n",
       "      <th>9</th>\n",
       "      <th>...</th>\n",
       "      <th>324</th>\n",
       "      <th>325</th>\n",
       "      <th>326</th>\n",
       "      <th>327</th>\n",
       "      <th>328</th>\n",
       "      <th>329</th>\n",
       "      <th>330</th>\n",
       "      <th>331</th>\n",
       "      <th>332</th>\n",
       "      <th>333</th>\n",
       "    </tr>\n",
       "  </thead>\n",
       "  <tbody>\n",
       "    <tr>\n",
       "      <th>0</th>\n",
       "      <td>34</td>\n",
       "      <td>0.65899</td>\n",
       "      <td>0.456946</td>\n",
       "      <td>0.226815</td>\n",
       "      <td>0.182449</td>\n",
       "      <td>0.965294</td>\n",
       "      <td>0.70086</td>\n",
       "      <td>0.219696</td>\n",
       "      <td>0.946454</td>\n",
       "      <td>0.954802</td>\n",
       "      <td>...</td>\n",
       "      <td>0.652282</td>\n",
       "      <td>0.863241</td>\n",
       "      <td>0.769064</td>\n",
       "      <td>0.375347</td>\n",
       "      <td>0.068468</td>\n",
       "      <td>0.579985</td>\n",
       "      <td>0.358726</td>\n",
       "      <td>0.289301</td>\n",
       "      <td>0.51193</td>\n",
       "      <td>0.069186</td>\n",
       "    </tr>\n",
       "    <tr>\n",
       "      <th>1</th>\n",
       "      <td>0.828904</td>\n",
       "      <td>0.258113</td>\n",
       "      <td>0.939641</td>\n",
       "      <td>0.407433</td>\n",
       "      <td>0.84012</td>\n",
       "      <td>0.035667</td>\n",
       "      <td>0.937137</td>\n",
       "      <td>0.77533</td>\n",
       "      <td>0.964041</td>\n",
       "      <td>0.260448</td>\n",
       "      <td>...</td>\n",
       "      <td>0.553481</td>\n",
       "      <td>0.468516</td>\n",
       "      <td>0.27569</td>\n",
       "      <td>0.082834</td>\n",
       "      <td>0.669752</td>\n",
       "      <td>0.856536</td>\n",
       "      <td>0.367792</td>\n",
       "      <td>0.21384</td>\n",
       "      <td>0.168148</td>\n",
       "      <td>0.382606</td>\n",
       "    </tr>\n",
       "    <tr>\n",
       "      <th>2</th>\n",
       "      <td>0.349962</td>\n",
       "      <td>0.291691</td>\n",
       "      <td>0.24601</td>\n",
       "      <td>0.185034</td>\n",
       "      <td>0.202041</td>\n",
       "      <td>0.870568</td>\n",
       "      <td>0.448469</td>\n",
       "      <td>0.774515</td>\n",
       "      <td>0.807655</td>\n",
       "      <td>0.35164</td>\n",
       "      <td>...</td>\n",
       "      <td>0.597536</td>\n",
       "      <td>0.04384</td>\n",
       "      <td>0.289525</td>\n",
       "      <td>0.094529</td>\n",
       "      <td>0.343922</td>\n",
       "      <td>0.293418</td>\n",
       "      <td>0.566118</td>\n",
       "      <td>0.381655</td>\n",
       "      <td>0.333518</td>\n",
       "      <td>0.124989</td>\n",
       "    </tr>\n",
       "    <tr>\n",
       "      <th>3</th>\n",
       "      <td>0.227394</td>\n",
       "      <td>0.751343</td>\n",
       "      <td>0.25322</td>\n",
       "      <td>0.37573</td>\n",
       "      <td>0.731245</td>\n",
       "      <td>0.936735</td>\n",
       "      <td>0.660557</td>\n",
       "      <td>0.645902</td>\n",
       "      <td>0.613649</td>\n",
       "      <td>0.777472</td>\n",
       "      <td>...</td>\n",
       "      <td>0.40856</td>\n",
       "      <td>0.7298</td>\n",
       "      <td>0.329655</td>\n",
       "      <td>0.839038</td>\n",
       "      <td>0.964016</td>\n",
       "      <td>0.434234</td>\n",
       "      <td>0.154135</td>\n",
       "      <td>0.319281</td>\n",
       "      <td>0.921157</td>\n",
       "      <td>0.689536</td>\n",
       "    </tr>\n",
       "    <tr>\n",
       "      <th>4</th>\n",
       "      <td>0.905384</td>\n",
       "      <td>0.47305</td>\n",
       "      <td>0.071133</td>\n",
       "      <td>0.927262</td>\n",
       "      <td>0.243812</td>\n",
       "      <td>0.828109</td>\n",
       "      <td>0.388245</td>\n",
       "      <td>0.579093</td>\n",
       "      <td>0.157752</td>\n",
       "      <td>0.769023</td>\n",
       "      <td>...</td>\n",
       "      <td>0.67856</td>\n",
       "      <td>0.726681</td>\n",
       "      <td>0.937936</td>\n",
       "      <td>0.749535</td>\n",
       "      <td>0.636344</td>\n",
       "      <td>0.237632</td>\n",
       "      <td>0.088266</td>\n",
       "      <td>0.285192</td>\n",
       "      <td>0.25306</td>\n",
       "      <td>0.037331</td>\n",
       "    </tr>\n",
       "  </tbody>\n",
       "</table>\n",
       "<p>5 rows × 334 columns</p>\n",
       "</div>"
      ],
      "text/plain": [
       "        0         1         2         3         4         5         6    \\\n",
       "0        34   0.65899  0.456946  0.226815  0.182449  0.965294   0.70086   \n",
       "1  0.828904  0.258113  0.939641  0.407433   0.84012  0.035667  0.937137   \n",
       "2  0.349962  0.291691   0.24601  0.185034  0.202041  0.870568  0.448469   \n",
       "3  0.227394  0.751343   0.25322   0.37573  0.731245  0.936735  0.660557   \n",
       "4  0.905384   0.47305  0.071133  0.927262  0.243812  0.828109  0.388245   \n",
       "\n",
       "        7         8         9    ...       324       325       326       327  \\\n",
       "0  0.219696  0.946454  0.954802  ...  0.652282  0.863241  0.769064  0.375347   \n",
       "1   0.77533  0.964041  0.260448  ...  0.553481  0.468516   0.27569  0.082834   \n",
       "2  0.774515  0.807655   0.35164  ...  0.597536   0.04384  0.289525  0.094529   \n",
       "3  0.645902  0.613649  0.777472  ...   0.40856    0.7298  0.329655  0.839038   \n",
       "4  0.579093  0.157752  0.769023  ...   0.67856  0.726681  0.937936  0.749535   \n",
       "\n",
       "        328       329       330       331       332       333  \n",
       "0  0.068468  0.579985  0.358726  0.289301   0.51193  0.069186  \n",
       "1  0.669752  0.856536  0.367792   0.21384  0.168148  0.382606  \n",
       "2  0.343922  0.293418  0.566118  0.381655  0.333518  0.124989  \n",
       "3  0.964016  0.434234  0.154135  0.319281  0.921157  0.689536  \n",
       "4  0.636344  0.237632  0.088266  0.285192   0.25306  0.037331  \n",
       "\n",
       "[5 rows x 334 columns]"
      ]
     },
     "execution_count": 51,
     "metadata": {},
     "output_type": "execute_result"
    }
   ],
   "source": [
    "newdf.T"
   ]
  },
  {
   "cell_type": "code",
   "execution_count": 53,
   "id": "6cb6bdc8",
   "metadata": {},
   "outputs": [
    {
     "data": {
      "text/html": [
       "<div>\n",
       "<style scoped>\n",
       "    .dataframe tbody tr th:only-of-type {\n",
       "        vertical-align: middle;\n",
       "    }\n",
       "\n",
       "    .dataframe tbody tr th {\n",
       "        vertical-align: top;\n",
       "    }\n",
       "\n",
       "    .dataframe thead th {\n",
       "        text-align: right;\n",
       "    }\n",
       "</style>\n",
       "<table border=\"1\" class=\"dataframe\">\n",
       "  <thead>\n",
       "    <tr style=\"text-align: right;\">\n",
       "      <th></th>\n",
       "      <th>0</th>\n",
       "      <th>1</th>\n",
       "      <th>2</th>\n",
       "      <th>3</th>\n",
       "      <th>4</th>\n",
       "    </tr>\n",
       "  </thead>\n",
       "  <tbody>\n",
       "    <tr>\n",
       "      <th>333</th>\n",
       "      <td>0.069186</td>\n",
       "      <td>0.382606</td>\n",
       "      <td>0.124989</td>\n",
       "      <td>0.689536</td>\n",
       "      <td>0.037331</td>\n",
       "    </tr>\n",
       "    <tr>\n",
       "      <th>332</th>\n",
       "      <td>0.51193</td>\n",
       "      <td>0.168148</td>\n",
       "      <td>0.333518</td>\n",
       "      <td>0.921157</td>\n",
       "      <td>0.253060</td>\n",
       "    </tr>\n",
       "    <tr>\n",
       "      <th>331</th>\n",
       "      <td>0.289301</td>\n",
       "      <td>0.213840</td>\n",
       "      <td>0.381655</td>\n",
       "      <td>0.319281</td>\n",
       "      <td>0.285192</td>\n",
       "    </tr>\n",
       "    <tr>\n",
       "      <th>330</th>\n",
       "      <td>0.358726</td>\n",
       "      <td>0.367792</td>\n",
       "      <td>0.566118</td>\n",
       "      <td>0.154135</td>\n",
       "      <td>0.088266</td>\n",
       "    </tr>\n",
       "    <tr>\n",
       "      <th>329</th>\n",
       "      <td>0.579985</td>\n",
       "      <td>0.856536</td>\n",
       "      <td>0.293418</td>\n",
       "      <td>0.434234</td>\n",
       "      <td>0.237632</td>\n",
       "    </tr>\n",
       "    <tr>\n",
       "      <th>...</th>\n",
       "      <td>...</td>\n",
       "      <td>...</td>\n",
       "      <td>...</td>\n",
       "      <td>...</td>\n",
       "      <td>...</td>\n",
       "    </tr>\n",
       "    <tr>\n",
       "      <th>4</th>\n",
       "      <td>0.182449</td>\n",
       "      <td>0.840120</td>\n",
       "      <td>0.202041</td>\n",
       "      <td>0.731245</td>\n",
       "      <td>0.243812</td>\n",
       "    </tr>\n",
       "    <tr>\n",
       "      <th>3</th>\n",
       "      <td>0.226815</td>\n",
       "      <td>0.407433</td>\n",
       "      <td>0.185034</td>\n",
       "      <td>0.375730</td>\n",
       "      <td>0.927262</td>\n",
       "    </tr>\n",
       "    <tr>\n",
       "      <th>2</th>\n",
       "      <td>0.456946</td>\n",
       "      <td>0.939641</td>\n",
       "      <td>0.246010</td>\n",
       "      <td>0.253220</td>\n",
       "      <td>0.071133</td>\n",
       "    </tr>\n",
       "    <tr>\n",
       "      <th>1</th>\n",
       "      <td>0.65899</td>\n",
       "      <td>0.258113</td>\n",
       "      <td>0.291691</td>\n",
       "      <td>0.751343</td>\n",
       "      <td>0.473050</td>\n",
       "    </tr>\n",
       "    <tr>\n",
       "      <th>0</th>\n",
       "      <td>34</td>\n",
       "      <td>0.828904</td>\n",
       "      <td>0.349962</td>\n",
       "      <td>0.227394</td>\n",
       "      <td>0.905384</td>\n",
       "    </tr>\n",
       "  </tbody>\n",
       "</table>\n",
       "<p>334 rows × 5 columns</p>\n",
       "</div>"
      ],
      "text/plain": [
       "            0         1         2         3         4\n",
       "333  0.069186  0.382606  0.124989  0.689536  0.037331\n",
       "332   0.51193  0.168148  0.333518  0.921157  0.253060\n",
       "331  0.289301  0.213840  0.381655  0.319281  0.285192\n",
       "330  0.358726  0.367792  0.566118  0.154135  0.088266\n",
       "329  0.579985  0.856536  0.293418  0.434234  0.237632\n",
       "..        ...       ...       ...       ...       ...\n",
       "4    0.182449  0.840120  0.202041  0.731245  0.243812\n",
       "3    0.226815  0.407433  0.185034  0.375730  0.927262\n",
       "2    0.456946  0.939641  0.246010  0.253220  0.071133\n",
       "1     0.65899  0.258113  0.291691  0.751343  0.473050\n",
       "0          34  0.828904  0.349962  0.227394  0.905384\n",
       "\n",
       "[334 rows x 5 columns]"
      ]
     },
     "execution_count": 53,
     "metadata": {},
     "output_type": "execute_result"
    }
   ],
   "source": [
    "newdf.sort_index(axis=0, ascending=False)"
   ]
  },
  {
   "cell_type": "code",
   "execution_count": 57,
   "id": "a5c43cd4",
   "metadata": {},
   "outputs": [
    {
     "data": {
      "text/plain": [
       "pandas.core.series.Series"
      ]
     },
     "execution_count": 57,
     "metadata": {},
     "output_type": "execute_result"
    }
   ],
   "source": [
    "type(newdf[0])"
   ]
  },
  {
   "cell_type": "code",
   "execution_count": 71,
   "id": "695311a6",
   "metadata": {},
   "outputs": [],
   "source": [
    "newdf2 = newdf.copy()"
   ]
  },
  {
   "cell_type": "code",
   "execution_count": 72,
   "id": "887e2045",
   "metadata": {},
   "outputs": [
    {
     "name": "stderr",
     "output_type": "stream",
     "text": [
      "C:\\Users\\mohdo\\AppData\\Local\\Temp\\ipykernel_18236\\157081290.py:1: SettingWithCopyWarning: \n",
      "A value is trying to be set on a copy of a slice from a DataFrame\n",
      "\n",
      "See the caveats in the documentation: https://pandas.pydata.org/pandas-docs/stable/user_guide/indexing.html#returning-a-view-versus-a-copy\n",
      "  newdf2[0][0] = 857\n"
     ]
    }
   ],
   "source": [
    "newdf2[0][0] = 857"
   ]
  },
  {
   "cell_type": "code",
   "execution_count": 73,
   "id": "114a1090",
   "metadata": {},
   "outputs": [
    {
     "data": {
      "text/html": [
       "<div>\n",
       "<style scoped>\n",
       "    .dataframe tbody tr th:only-of-type {\n",
       "        vertical-align: middle;\n",
       "    }\n",
       "\n",
       "    .dataframe tbody tr th {\n",
       "        vertical-align: top;\n",
       "    }\n",
       "\n",
       "    .dataframe thead th {\n",
       "        text-align: right;\n",
       "    }\n",
       "</style>\n",
       "<table border=\"1\" class=\"dataframe\">\n",
       "  <thead>\n",
       "    <tr style=\"text-align: right;\">\n",
       "      <th></th>\n",
       "      <th>0</th>\n",
       "      <th>1</th>\n",
       "      <th>2</th>\n",
       "      <th>3</th>\n",
       "      <th>4</th>\n",
       "    </tr>\n",
       "  </thead>\n",
       "  <tbody>\n",
       "    <tr>\n",
       "      <th>0</th>\n",
       "      <td>8578</td>\n",
       "      <td>0.828904</td>\n",
       "      <td>0.349962</td>\n",
       "      <td>0.227394</td>\n",
       "      <td>0.905384</td>\n",
       "    </tr>\n",
       "    <tr>\n",
       "      <th>1</th>\n",
       "      <td>8578</td>\n",
       "      <td>0.258113</td>\n",
       "      <td>0.291691</td>\n",
       "      <td>0.751343</td>\n",
       "      <td>0.473050</td>\n",
       "    </tr>\n",
       "    <tr>\n",
       "      <th>2</th>\n",
       "      <td>8578</td>\n",
       "      <td>0.939641</td>\n",
       "      <td>0.246010</td>\n",
       "      <td>0.253220</td>\n",
       "      <td>0.071133</td>\n",
       "    </tr>\n",
       "    <tr>\n",
       "      <th>3</th>\n",
       "      <td>8578</td>\n",
       "      <td>0.407433</td>\n",
       "      <td>0.185034</td>\n",
       "      <td>0.375730</td>\n",
       "      <td>0.927262</td>\n",
       "    </tr>\n",
       "    <tr>\n",
       "      <th>4</th>\n",
       "      <td>8578</td>\n",
       "      <td>0.840120</td>\n",
       "      <td>0.202041</td>\n",
       "      <td>0.731245</td>\n",
       "      <td>0.243812</td>\n",
       "    </tr>\n",
       "    <tr>\n",
       "      <th>...</th>\n",
       "      <td>...</td>\n",
       "      <td>...</td>\n",
       "      <td>...</td>\n",
       "      <td>...</td>\n",
       "      <td>...</td>\n",
       "    </tr>\n",
       "    <tr>\n",
       "      <th>329</th>\n",
       "      <td>8578</td>\n",
       "      <td>0.856536</td>\n",
       "      <td>0.293418</td>\n",
       "      <td>0.434234</td>\n",
       "      <td>0.237632</td>\n",
       "    </tr>\n",
       "    <tr>\n",
       "      <th>330</th>\n",
       "      <td>8578</td>\n",
       "      <td>0.367792</td>\n",
       "      <td>0.566118</td>\n",
       "      <td>0.154135</td>\n",
       "      <td>0.088266</td>\n",
       "    </tr>\n",
       "    <tr>\n",
       "      <th>331</th>\n",
       "      <td>8578</td>\n",
       "      <td>0.213840</td>\n",
       "      <td>0.381655</td>\n",
       "      <td>0.319281</td>\n",
       "      <td>0.285192</td>\n",
       "    </tr>\n",
       "    <tr>\n",
       "      <th>332</th>\n",
       "      <td>8578</td>\n",
       "      <td>0.168148</td>\n",
       "      <td>0.333518</td>\n",
       "      <td>0.921157</td>\n",
       "      <td>0.253060</td>\n",
       "    </tr>\n",
       "    <tr>\n",
       "      <th>333</th>\n",
       "      <td>8578</td>\n",
       "      <td>0.382606</td>\n",
       "      <td>0.124989</td>\n",
       "      <td>0.689536</td>\n",
       "      <td>0.037331</td>\n",
       "    </tr>\n",
       "  </tbody>\n",
       "</table>\n",
       "<p>334 rows × 5 columns</p>\n",
       "</div>"
      ],
      "text/plain": [
       "        0         1         2         3         4\n",
       "0    8578  0.828904  0.349962  0.227394  0.905384\n",
       "1    8578  0.258113  0.291691  0.751343  0.473050\n",
       "2    8578  0.939641  0.246010  0.253220  0.071133\n",
       "3    8578  0.407433  0.185034  0.375730  0.927262\n",
       "4    8578  0.840120  0.202041  0.731245  0.243812\n",
       "..    ...       ...       ...       ...       ...\n",
       "329  8578  0.856536  0.293418  0.434234  0.237632\n",
       "330  8578  0.367792  0.566118  0.154135  0.088266\n",
       "331  8578  0.213840  0.381655  0.319281  0.285192\n",
       "332  8578  0.168148  0.333518  0.921157  0.253060\n",
       "333  8578  0.382606  0.124989  0.689536  0.037331\n",
       "\n",
       "[334 rows x 5 columns]"
      ]
     },
     "execution_count": 73,
     "metadata": {},
     "output_type": "execute_result"
    }
   ],
   "source": [
    "newdf"
   ]
  },
  {
   "cell_type": "code",
   "execution_count": 74,
   "id": "cc13fcd7",
   "metadata": {},
   "outputs": [
    {
     "data": {
      "text/html": [
       "<div>\n",
       "<style scoped>\n",
       "    .dataframe tbody tr th:only-of-type {\n",
       "        vertical-align: middle;\n",
       "    }\n",
       "\n",
       "    .dataframe tbody tr th {\n",
       "        vertical-align: top;\n",
       "    }\n",
       "\n",
       "    .dataframe thead th {\n",
       "        text-align: right;\n",
       "    }\n",
       "</style>\n",
       "<table border=\"1\" class=\"dataframe\">\n",
       "  <thead>\n",
       "    <tr style=\"text-align: right;\">\n",
       "      <th></th>\n",
       "      <th>0</th>\n",
       "      <th>1</th>\n",
       "      <th>2</th>\n",
       "      <th>3</th>\n",
       "      <th>4</th>\n",
       "    </tr>\n",
       "  </thead>\n",
       "  <tbody>\n",
       "    <tr>\n",
       "      <th>0</th>\n",
       "      <td>857</td>\n",
       "      <td>0.828904</td>\n",
       "      <td>0.349962</td>\n",
       "      <td>0.227394</td>\n",
       "      <td>0.905384</td>\n",
       "    </tr>\n",
       "    <tr>\n",
       "      <th>1</th>\n",
       "      <td>8578</td>\n",
       "      <td>0.258113</td>\n",
       "      <td>0.291691</td>\n",
       "      <td>0.751343</td>\n",
       "      <td>0.473050</td>\n",
       "    </tr>\n",
       "    <tr>\n",
       "      <th>2</th>\n",
       "      <td>8578</td>\n",
       "      <td>0.939641</td>\n",
       "      <td>0.246010</td>\n",
       "      <td>0.253220</td>\n",
       "      <td>0.071133</td>\n",
       "    </tr>\n",
       "    <tr>\n",
       "      <th>3</th>\n",
       "      <td>8578</td>\n",
       "      <td>0.407433</td>\n",
       "      <td>0.185034</td>\n",
       "      <td>0.375730</td>\n",
       "      <td>0.927262</td>\n",
       "    </tr>\n",
       "    <tr>\n",
       "      <th>4</th>\n",
       "      <td>8578</td>\n",
       "      <td>0.840120</td>\n",
       "      <td>0.202041</td>\n",
       "      <td>0.731245</td>\n",
       "      <td>0.243812</td>\n",
       "    </tr>\n",
       "    <tr>\n",
       "      <th>...</th>\n",
       "      <td>...</td>\n",
       "      <td>...</td>\n",
       "      <td>...</td>\n",
       "      <td>...</td>\n",
       "      <td>...</td>\n",
       "    </tr>\n",
       "    <tr>\n",
       "      <th>329</th>\n",
       "      <td>8578</td>\n",
       "      <td>0.856536</td>\n",
       "      <td>0.293418</td>\n",
       "      <td>0.434234</td>\n",
       "      <td>0.237632</td>\n",
       "    </tr>\n",
       "    <tr>\n",
       "      <th>330</th>\n",
       "      <td>8578</td>\n",
       "      <td>0.367792</td>\n",
       "      <td>0.566118</td>\n",
       "      <td>0.154135</td>\n",
       "      <td>0.088266</td>\n",
       "    </tr>\n",
       "    <tr>\n",
       "      <th>331</th>\n",
       "      <td>8578</td>\n",
       "      <td>0.213840</td>\n",
       "      <td>0.381655</td>\n",
       "      <td>0.319281</td>\n",
       "      <td>0.285192</td>\n",
       "    </tr>\n",
       "    <tr>\n",
       "      <th>332</th>\n",
       "      <td>8578</td>\n",
       "      <td>0.168148</td>\n",
       "      <td>0.333518</td>\n",
       "      <td>0.921157</td>\n",
       "      <td>0.253060</td>\n",
       "    </tr>\n",
       "    <tr>\n",
       "      <th>333</th>\n",
       "      <td>8578</td>\n",
       "      <td>0.382606</td>\n",
       "      <td>0.124989</td>\n",
       "      <td>0.689536</td>\n",
       "      <td>0.037331</td>\n",
       "    </tr>\n",
       "  </tbody>\n",
       "</table>\n",
       "<p>334 rows × 5 columns</p>\n",
       "</div>"
      ],
      "text/plain": [
       "        0         1         2         3         4\n",
       "0     857  0.828904  0.349962  0.227394  0.905384\n",
       "1    8578  0.258113  0.291691  0.751343  0.473050\n",
       "2    8578  0.939641  0.246010  0.253220  0.071133\n",
       "3    8578  0.407433  0.185034  0.375730  0.927262\n",
       "4    8578  0.840120  0.202041  0.731245  0.243812\n",
       "..    ...       ...       ...       ...       ...\n",
       "329  8578  0.856536  0.293418  0.434234  0.237632\n",
       "330  8578  0.367792  0.566118  0.154135  0.088266\n",
       "331  8578  0.213840  0.381655  0.319281  0.285192\n",
       "332  8578  0.168148  0.333518  0.921157  0.253060\n",
       "333  8578  0.382606  0.124989  0.689536  0.037331\n",
       "\n",
       "[334 rows x 5 columns]"
      ]
     },
     "execution_count": 74,
     "metadata": {},
     "output_type": "execute_result"
    }
   ],
   "source": [
    "newdf2"
   ]
  },
  {
   "cell_type": "code",
   "execution_count": 75,
   "id": "0f29d5f8",
   "metadata": {},
   "outputs": [],
   "source": [
    "newdf.loc[0, 0] = 654"
   ]
  },
  {
   "cell_type": "code",
   "execution_count": 76,
   "id": "55b8694a",
   "metadata": {},
   "outputs": [
    {
     "data": {
      "text/html": [
       "<div>\n",
       "<style scoped>\n",
       "    .dataframe tbody tr th:only-of-type {\n",
       "        vertical-align: middle;\n",
       "    }\n",
       "\n",
       "    .dataframe tbody tr th {\n",
       "        vertical-align: top;\n",
       "    }\n",
       "\n",
       "    .dataframe thead th {\n",
       "        text-align: right;\n",
       "    }\n",
       "</style>\n",
       "<table border=\"1\" class=\"dataframe\">\n",
       "  <thead>\n",
       "    <tr style=\"text-align: right;\">\n",
       "      <th></th>\n",
       "      <th>0</th>\n",
       "      <th>1</th>\n",
       "      <th>2</th>\n",
       "      <th>3</th>\n",
       "      <th>4</th>\n",
       "    </tr>\n",
       "  </thead>\n",
       "  <tbody>\n",
       "    <tr>\n",
       "      <th>0</th>\n",
       "      <td>654</td>\n",
       "      <td>0.828904</td>\n",
       "      <td>0.349962</td>\n",
       "      <td>0.227394</td>\n",
       "      <td>0.905384</td>\n",
       "    </tr>\n",
       "    <tr>\n",
       "      <th>1</th>\n",
       "      <td>8578</td>\n",
       "      <td>0.258113</td>\n",
       "      <td>0.291691</td>\n",
       "      <td>0.751343</td>\n",
       "      <td>0.473050</td>\n",
       "    </tr>\n",
       "  </tbody>\n",
       "</table>\n",
       "</div>"
      ],
      "text/plain": [
       "      0         1         2         3         4\n",
       "0   654  0.828904  0.349962  0.227394  0.905384\n",
       "1  8578  0.258113  0.291691  0.751343  0.473050"
      ]
     },
     "execution_count": 76,
     "metadata": {},
     "output_type": "execute_result"
    }
   ],
   "source": [
    "newdf.head(2)"
   ]
  },
  {
   "cell_type": "code",
   "execution_count": 77,
   "id": "1632271e",
   "metadata": {},
   "outputs": [],
   "source": [
    "newdf.columns = list(\"ABCDE\")"
   ]
  },
  {
   "cell_type": "code",
   "execution_count": 79,
   "id": "26fdc157",
   "metadata": {},
   "outputs": [
    {
     "data": {
      "text/html": [
       "<div>\n",
       "<style scoped>\n",
       "    .dataframe tbody tr th:only-of-type {\n",
       "        vertical-align: middle;\n",
       "    }\n",
       "\n",
       "    .dataframe tbody tr th {\n",
       "        vertical-align: top;\n",
       "    }\n",
       "\n",
       "    .dataframe thead th {\n",
       "        text-align: right;\n",
       "    }\n",
       "</style>\n",
       "<table border=\"1\" class=\"dataframe\">\n",
       "  <thead>\n",
       "    <tr style=\"text-align: right;\">\n",
       "      <th></th>\n",
       "      <th>A</th>\n",
       "      <th>B</th>\n",
       "      <th>C</th>\n",
       "      <th>D</th>\n",
       "      <th>E</th>\n",
       "    </tr>\n",
       "  </thead>\n",
       "  <tbody>\n",
       "    <tr>\n",
       "      <th>0</th>\n",
       "      <td>654</td>\n",
       "      <td>0.828904</td>\n",
       "      <td>0.349962</td>\n",
       "      <td>0.227394</td>\n",
       "      <td>0.905384</td>\n",
       "    </tr>\n",
       "    <tr>\n",
       "      <th>1</th>\n",
       "      <td>8578</td>\n",
       "      <td>0.258113</td>\n",
       "      <td>0.291691</td>\n",
       "      <td>0.751343</td>\n",
       "      <td>0.473050</td>\n",
       "    </tr>\n",
       "  </tbody>\n",
       "</table>\n",
       "</div>"
      ],
      "text/plain": [
       "      A         B         C         D         E\n",
       "0   654  0.828904  0.349962  0.227394  0.905384\n",
       "1  8578  0.258113  0.291691  0.751343  0.473050"
      ]
     },
     "execution_count": 79,
     "metadata": {},
     "output_type": "execute_result"
    }
   ],
   "source": [
    "newdf.head(2)"
   ]
  },
  {
   "cell_type": "code",
   "execution_count": 80,
   "id": "7f9dd3ac",
   "metadata": {},
   "outputs": [],
   "source": [
    "newdf.loc[0, 'A'] = 5654"
   ]
  },
  {
   "cell_type": "code",
   "execution_count": 81,
   "id": "36fc409a",
   "metadata": {},
   "outputs": [
    {
     "data": {
      "text/html": [
       "<div>\n",
       "<style scoped>\n",
       "    .dataframe tbody tr th:only-of-type {\n",
       "        vertical-align: middle;\n",
       "    }\n",
       "\n",
       "    .dataframe tbody tr th {\n",
       "        vertical-align: top;\n",
       "    }\n",
       "\n",
       "    .dataframe thead th {\n",
       "        text-align: right;\n",
       "    }\n",
       "</style>\n",
       "<table border=\"1\" class=\"dataframe\">\n",
       "  <thead>\n",
       "    <tr style=\"text-align: right;\">\n",
       "      <th></th>\n",
       "      <th>A</th>\n",
       "      <th>B</th>\n",
       "      <th>C</th>\n",
       "      <th>D</th>\n",
       "      <th>E</th>\n",
       "    </tr>\n",
       "  </thead>\n",
       "  <tbody>\n",
       "    <tr>\n",
       "      <th>0</th>\n",
       "      <td>5654</td>\n",
       "      <td>0.828904</td>\n",
       "      <td>0.349962</td>\n",
       "      <td>0.227394</td>\n",
       "      <td>0.905384</td>\n",
       "    </tr>\n",
       "    <tr>\n",
       "      <th>1</th>\n",
       "      <td>8578</td>\n",
       "      <td>0.258113</td>\n",
       "      <td>0.291691</td>\n",
       "      <td>0.751343</td>\n",
       "      <td>0.473050</td>\n",
       "    </tr>\n",
       "    <tr>\n",
       "      <th>2</th>\n",
       "      <td>8578</td>\n",
       "      <td>0.939641</td>\n",
       "      <td>0.246010</td>\n",
       "      <td>0.253220</td>\n",
       "      <td>0.071133</td>\n",
       "    </tr>\n",
       "    <tr>\n",
       "      <th>3</th>\n",
       "      <td>8578</td>\n",
       "      <td>0.407433</td>\n",
       "      <td>0.185034</td>\n",
       "      <td>0.375730</td>\n",
       "      <td>0.927262</td>\n",
       "    </tr>\n",
       "    <tr>\n",
       "      <th>4</th>\n",
       "      <td>8578</td>\n",
       "      <td>0.840120</td>\n",
       "      <td>0.202041</td>\n",
       "      <td>0.731245</td>\n",
       "      <td>0.243812</td>\n",
       "    </tr>\n",
       "  </tbody>\n",
       "</table>\n",
       "</div>"
      ],
      "text/plain": [
       "      A         B         C         D         E\n",
       "0  5654  0.828904  0.349962  0.227394  0.905384\n",
       "1  8578  0.258113  0.291691  0.751343  0.473050\n",
       "2  8578  0.939641  0.246010  0.253220  0.071133\n",
       "3  8578  0.407433  0.185034  0.375730  0.927262\n",
       "4  8578  0.840120  0.202041  0.731245  0.243812"
      ]
     },
     "execution_count": 81,
     "metadata": {},
     "output_type": "execute_result"
    }
   ],
   "source": [
    "newdf.head()"
   ]
  },
  {
   "cell_type": "code",
   "execution_count": 82,
   "id": "1027432d",
   "metadata": {},
   "outputs": [
    {
     "data": {
      "text/html": [
       "<div>\n",
       "<style scoped>\n",
       "    .dataframe tbody tr th:only-of-type {\n",
       "        vertical-align: middle;\n",
       "    }\n",
       "\n",
       "    .dataframe tbody tr th {\n",
       "        vertical-align: top;\n",
       "    }\n",
       "\n",
       "    .dataframe thead th {\n",
       "        text-align: right;\n",
       "    }\n",
       "</style>\n",
       "<table border=\"1\" class=\"dataframe\">\n",
       "  <thead>\n",
       "    <tr style=\"text-align: right;\">\n",
       "      <th></th>\n",
       "      <th>A</th>\n",
       "      <th>B</th>\n",
       "      <th>C</th>\n",
       "      <th>D</th>\n",
       "    </tr>\n",
       "  </thead>\n",
       "  <tbody>\n",
       "    <tr>\n",
       "      <th>0</th>\n",
       "      <td>5654</td>\n",
       "      <td>0.828904</td>\n",
       "      <td>0.349962</td>\n",
       "      <td>0.227394</td>\n",
       "    </tr>\n",
       "    <tr>\n",
       "      <th>1</th>\n",
       "      <td>8578</td>\n",
       "      <td>0.258113</td>\n",
       "      <td>0.291691</td>\n",
       "      <td>0.751343</td>\n",
       "    </tr>\n",
       "    <tr>\n",
       "      <th>2</th>\n",
       "      <td>8578</td>\n",
       "      <td>0.939641</td>\n",
       "      <td>0.246010</td>\n",
       "      <td>0.253220</td>\n",
       "    </tr>\n",
       "    <tr>\n",
       "      <th>3</th>\n",
       "      <td>8578</td>\n",
       "      <td>0.407433</td>\n",
       "      <td>0.185034</td>\n",
       "      <td>0.375730</td>\n",
       "    </tr>\n",
       "    <tr>\n",
       "      <th>4</th>\n",
       "      <td>8578</td>\n",
       "      <td>0.840120</td>\n",
       "      <td>0.202041</td>\n",
       "      <td>0.731245</td>\n",
       "    </tr>\n",
       "    <tr>\n",
       "      <th>...</th>\n",
       "      <td>...</td>\n",
       "      <td>...</td>\n",
       "      <td>...</td>\n",
       "      <td>...</td>\n",
       "    </tr>\n",
       "    <tr>\n",
       "      <th>329</th>\n",
       "      <td>8578</td>\n",
       "      <td>0.856536</td>\n",
       "      <td>0.293418</td>\n",
       "      <td>0.434234</td>\n",
       "    </tr>\n",
       "    <tr>\n",
       "      <th>330</th>\n",
       "      <td>8578</td>\n",
       "      <td>0.367792</td>\n",
       "      <td>0.566118</td>\n",
       "      <td>0.154135</td>\n",
       "    </tr>\n",
       "    <tr>\n",
       "      <th>331</th>\n",
       "      <td>8578</td>\n",
       "      <td>0.213840</td>\n",
       "      <td>0.381655</td>\n",
       "      <td>0.319281</td>\n",
       "    </tr>\n",
       "    <tr>\n",
       "      <th>332</th>\n",
       "      <td>8578</td>\n",
       "      <td>0.168148</td>\n",
       "      <td>0.333518</td>\n",
       "      <td>0.921157</td>\n",
       "    </tr>\n",
       "    <tr>\n",
       "      <th>333</th>\n",
       "      <td>8578</td>\n",
       "      <td>0.382606</td>\n",
       "      <td>0.124989</td>\n",
       "      <td>0.689536</td>\n",
       "    </tr>\n",
       "  </tbody>\n",
       "</table>\n",
       "<p>334 rows × 4 columns</p>\n",
       "</div>"
      ],
      "text/plain": [
       "        A         B         C         D\n",
       "0    5654  0.828904  0.349962  0.227394\n",
       "1    8578  0.258113  0.291691  0.751343\n",
       "2    8578  0.939641  0.246010  0.253220\n",
       "3    8578  0.407433  0.185034  0.375730\n",
       "4    8578  0.840120  0.202041  0.731245\n",
       "..    ...       ...       ...       ...\n",
       "329  8578  0.856536  0.293418  0.434234\n",
       "330  8578  0.367792  0.566118  0.154135\n",
       "331  8578  0.213840  0.381655  0.319281\n",
       "332  8578  0.168148  0.333518  0.921157\n",
       "333  8578  0.382606  0.124989  0.689536\n",
       "\n",
       "[334 rows x 4 columns]"
      ]
     },
     "execution_count": 82,
     "metadata": {},
     "output_type": "execute_result"
    }
   ],
   "source": [
    "newdf.drop('E', axis=1)"
   ]
  },
  {
   "cell_type": "code",
   "execution_count": 83,
   "id": "d5a27426",
   "metadata": {},
   "outputs": [
    {
     "data": {
      "text/html": [
       "<div>\n",
       "<style scoped>\n",
       "    .dataframe tbody tr th:only-of-type {\n",
       "        vertical-align: middle;\n",
       "    }\n",
       "\n",
       "    .dataframe tbody tr th {\n",
       "        vertical-align: top;\n",
       "    }\n",
       "\n",
       "    .dataframe thead th {\n",
       "        text-align: right;\n",
       "    }\n",
       "</style>\n",
       "<table border=\"1\" class=\"dataframe\">\n",
       "  <thead>\n",
       "    <tr style=\"text-align: right;\">\n",
       "      <th></th>\n",
       "      <th>A</th>\n",
       "      <th>B</th>\n",
       "      <th>C</th>\n",
       "      <th>D</th>\n",
       "      <th>E</th>\n",
       "    </tr>\n",
       "  </thead>\n",
       "  <tbody>\n",
       "    <tr>\n",
       "      <th>1</th>\n",
       "      <td>8578</td>\n",
       "      <td>0.258113</td>\n",
       "      <td>0.291691</td>\n",
       "      <td>0.751343</td>\n",
       "      <td>0.473050</td>\n",
       "    </tr>\n",
       "    <tr>\n",
       "      <th>2</th>\n",
       "      <td>8578</td>\n",
       "      <td>0.939641</td>\n",
       "      <td>0.246010</td>\n",
       "      <td>0.253220</td>\n",
       "      <td>0.071133</td>\n",
       "    </tr>\n",
       "    <tr>\n",
       "      <th>3</th>\n",
       "      <td>8578</td>\n",
       "      <td>0.407433</td>\n",
       "      <td>0.185034</td>\n",
       "      <td>0.375730</td>\n",
       "      <td>0.927262</td>\n",
       "    </tr>\n",
       "    <tr>\n",
       "      <th>4</th>\n",
       "      <td>8578</td>\n",
       "      <td>0.840120</td>\n",
       "      <td>0.202041</td>\n",
       "      <td>0.731245</td>\n",
       "      <td>0.243812</td>\n",
       "    </tr>\n",
       "    <tr>\n",
       "      <th>5</th>\n",
       "      <td>8578</td>\n",
       "      <td>0.035667</td>\n",
       "      <td>0.870568</td>\n",
       "      <td>0.936735</td>\n",
       "      <td>0.828109</td>\n",
       "    </tr>\n",
       "    <tr>\n",
       "      <th>...</th>\n",
       "      <td>...</td>\n",
       "      <td>...</td>\n",
       "      <td>...</td>\n",
       "      <td>...</td>\n",
       "      <td>...</td>\n",
       "    </tr>\n",
       "    <tr>\n",
       "      <th>329</th>\n",
       "      <td>8578</td>\n",
       "      <td>0.856536</td>\n",
       "      <td>0.293418</td>\n",
       "      <td>0.434234</td>\n",
       "      <td>0.237632</td>\n",
       "    </tr>\n",
       "    <tr>\n",
       "      <th>330</th>\n",
       "      <td>8578</td>\n",
       "      <td>0.367792</td>\n",
       "      <td>0.566118</td>\n",
       "      <td>0.154135</td>\n",
       "      <td>0.088266</td>\n",
       "    </tr>\n",
       "    <tr>\n",
       "      <th>331</th>\n",
       "      <td>8578</td>\n",
       "      <td>0.213840</td>\n",
       "      <td>0.381655</td>\n",
       "      <td>0.319281</td>\n",
       "      <td>0.285192</td>\n",
       "    </tr>\n",
       "    <tr>\n",
       "      <th>332</th>\n",
       "      <td>8578</td>\n",
       "      <td>0.168148</td>\n",
       "      <td>0.333518</td>\n",
       "      <td>0.921157</td>\n",
       "      <td>0.253060</td>\n",
       "    </tr>\n",
       "    <tr>\n",
       "      <th>333</th>\n",
       "      <td>8578</td>\n",
       "      <td>0.382606</td>\n",
       "      <td>0.124989</td>\n",
       "      <td>0.689536</td>\n",
       "      <td>0.037331</td>\n",
       "    </tr>\n",
       "  </tbody>\n",
       "</table>\n",
       "<p>333 rows × 5 columns</p>\n",
       "</div>"
      ],
      "text/plain": [
       "        A         B         C         D         E\n",
       "1    8578  0.258113  0.291691  0.751343  0.473050\n",
       "2    8578  0.939641  0.246010  0.253220  0.071133\n",
       "3    8578  0.407433  0.185034  0.375730  0.927262\n",
       "4    8578  0.840120  0.202041  0.731245  0.243812\n",
       "5    8578  0.035667  0.870568  0.936735  0.828109\n",
       "..    ...       ...       ...       ...       ...\n",
       "329  8578  0.856536  0.293418  0.434234  0.237632\n",
       "330  8578  0.367792  0.566118  0.154135  0.088266\n",
       "331  8578  0.213840  0.381655  0.319281  0.285192\n",
       "332  8578  0.168148  0.333518  0.921157  0.253060\n",
       "333  8578  0.382606  0.124989  0.689536  0.037331\n",
       "\n",
       "[333 rows x 5 columns]"
      ]
     },
     "execution_count": 83,
     "metadata": {},
     "output_type": "execute_result"
    }
   ],
   "source": [
    "newdf.drop(0, axis=0)"
   ]
  },
  {
   "cell_type": "code",
   "execution_count": 86,
   "id": "4e5f2d71",
   "metadata": {},
   "outputs": [],
   "source": [
    "newdf = newdf.loc[[1, 2], ['C', 'D']]"
   ]
  },
  {
   "cell_type": "code",
   "execution_count": 87,
   "id": "b50bbb96",
   "metadata": {},
   "outputs": [
    {
     "data": {
      "text/html": [
       "<div>\n",
       "<style scoped>\n",
       "    .dataframe tbody tr th:only-of-type {\n",
       "        vertical-align: middle;\n",
       "    }\n",
       "\n",
       "    .dataframe tbody tr th {\n",
       "        vertical-align: top;\n",
       "    }\n",
       "\n",
       "    .dataframe thead th {\n",
       "        text-align: right;\n",
       "    }\n",
       "</style>\n",
       "<table border=\"1\" class=\"dataframe\">\n",
       "  <thead>\n",
       "    <tr style=\"text-align: right;\">\n",
       "      <th></th>\n",
       "      <th>C</th>\n",
       "      <th>D</th>\n",
       "    </tr>\n",
       "  </thead>\n",
       "  <tbody>\n",
       "    <tr>\n",
       "      <th>1</th>\n",
       "      <td>0.291691</td>\n",
       "      <td>0.751343</td>\n",
       "    </tr>\n",
       "    <tr>\n",
       "      <th>2</th>\n",
       "      <td>0.246010</td>\n",
       "      <td>0.253220</td>\n",
       "    </tr>\n",
       "  </tbody>\n",
       "</table>\n",
       "</div>"
      ],
      "text/plain": [
       "          C         D\n",
       "1  0.291691  0.751343\n",
       "2  0.246010  0.253220"
      ]
     },
     "execution_count": 87,
     "metadata": {},
     "output_type": "execute_result"
    }
   ],
   "source": [
    "newdf"
   ]
  },
  {
   "cell_type": "code",
   "execution_count": 89,
   "id": "c6874029",
   "metadata": {},
   "outputs": [
    {
     "data": {
      "text/html": [
       "<div>\n",
       "<style scoped>\n",
       "    .dataframe tbody tr th:only-of-type {\n",
       "        vertical-align: middle;\n",
       "    }\n",
       "\n",
       "    .dataframe tbody tr th {\n",
       "        vertical-align: top;\n",
       "    }\n",
       "\n",
       "    .dataframe thead th {\n",
       "        text-align: right;\n",
       "    }\n",
       "</style>\n",
       "<table border=\"1\" class=\"dataframe\">\n",
       "  <thead>\n",
       "    <tr style=\"text-align: right;\">\n",
       "      <th></th>\n",
       "      <th>C</th>\n",
       "      <th>D</th>\n",
       "    </tr>\n",
       "  </thead>\n",
       "  <tbody>\n",
       "    <tr>\n",
       "      <th>1</th>\n",
       "      <td>0.291691</td>\n",
       "      <td>0.751343</td>\n",
       "    </tr>\n",
       "  </tbody>\n",
       "</table>\n",
       "</div>"
      ],
      "text/plain": [
       "          C         D\n",
       "1  0.291691  0.751343"
      ]
     },
     "execution_count": 89,
     "metadata": {},
     "output_type": "execute_result"
    }
   ],
   "source": [
    "newdf.loc[[1,], :]"
   ]
  },
  {
   "cell_type": "code",
   "execution_count": 90,
   "id": "8d504f1f",
   "metadata": {},
   "outputs": [
    {
     "data": {
      "text/html": [
       "<div>\n",
       "<style scoped>\n",
       "    .dataframe tbody tr th:only-of-type {\n",
       "        vertical-align: middle;\n",
       "    }\n",
       "\n",
       "    .dataframe tbody tr th {\n",
       "        vertical-align: top;\n",
       "    }\n",
       "\n",
       "    .dataframe thead th {\n",
       "        text-align: right;\n",
       "    }\n",
       "</style>\n",
       "<table border=\"1\" class=\"dataframe\">\n",
       "  <thead>\n",
       "    <tr style=\"text-align: right;\">\n",
       "      <th></th>\n",
       "      <th>C</th>\n",
       "    </tr>\n",
       "  </thead>\n",
       "  <tbody>\n",
       "    <tr>\n",
       "      <th>1</th>\n",
       "      <td>0.291691</td>\n",
       "    </tr>\n",
       "    <tr>\n",
       "      <th>2</th>\n",
       "      <td>0.246010</td>\n",
       "    </tr>\n",
       "  </tbody>\n",
       "</table>\n",
       "</div>"
      ],
      "text/plain": [
       "          C\n",
       "1  0.291691\n",
       "2  0.246010"
      ]
     },
     "execution_count": 90,
     "metadata": {},
     "output_type": "execute_result"
    }
   ],
   "source": [
    "newdf.loc[:, ['C']]"
   ]
  },
  {
   "cell_type": "code",
   "execution_count": 92,
   "id": "60560e36",
   "metadata": {},
   "outputs": [
    {
     "data": {
      "text/html": [
       "<div>\n",
       "<style scoped>\n",
       "    .dataframe tbody tr th:only-of-type {\n",
       "        vertical-align: middle;\n",
       "    }\n",
       "\n",
       "    .dataframe tbody tr th {\n",
       "        vertical-align: top;\n",
       "    }\n",
       "\n",
       "    .dataframe thead th {\n",
       "        text-align: right;\n",
       "    }\n",
       "</style>\n",
       "<table border=\"1\" class=\"dataframe\">\n",
       "  <thead>\n",
       "    <tr style=\"text-align: right;\">\n",
       "      <th></th>\n",
       "      <th>C</th>\n",
       "      <th>D</th>\n",
       "    </tr>\n",
       "  </thead>\n",
       "  <tbody>\n",
       "    <tr>\n",
       "      <th>1</th>\n",
       "      <td>0.291691</td>\n",
       "      <td>0.751343</td>\n",
       "    </tr>\n",
       "    <tr>\n",
       "      <th>2</th>\n",
       "      <td>0.246010</td>\n",
       "      <td>0.253220</td>\n",
       "    </tr>\n",
       "  </tbody>\n",
       "</table>\n",
       "</div>"
      ],
      "text/plain": [
       "          C         D\n",
       "1  0.291691  0.751343\n",
       "2  0.246010  0.253220"
      ]
     },
     "execution_count": 92,
     "metadata": {},
     "output_type": "execute_result"
    }
   ],
   "source": [
    "newdf.loc[(newdf['C']<0.3)]"
   ]
  },
  {
   "cell_type": "code",
   "execution_count": 96,
   "id": "007c2172",
   "metadata": {},
   "outputs": [
    {
     "data": {
      "text/plain": [
       "0.7513426805113009"
      ]
     },
     "execution_count": 96,
     "metadata": {},
     "output_type": "execute_result"
    }
   ],
   "source": [
    "newdf.iloc[0, 1]"
   ]
  },
  {
   "cell_type": "code",
   "execution_count": 98,
   "id": "661d59b0",
   "metadata": {},
   "outputs": [
    {
     "data": {
      "text/html": [
       "<div>\n",
       "<style scoped>\n",
       "    .dataframe tbody tr th:only-of-type {\n",
       "        vertical-align: middle;\n",
       "    }\n",
       "\n",
       "    .dataframe tbody tr th {\n",
       "        vertical-align: top;\n",
       "    }\n",
       "\n",
       "    .dataframe thead th {\n",
       "        text-align: right;\n",
       "    }\n",
       "</style>\n",
       "<table border=\"1\" class=\"dataframe\">\n",
       "  <thead>\n",
       "    <tr style=\"text-align: right;\">\n",
       "      <th></th>\n",
       "      <th>C</th>\n",
       "      <th>D</th>\n",
       "    </tr>\n",
       "  </thead>\n",
       "  <tbody>\n",
       "    <tr>\n",
       "      <th>1</th>\n",
       "      <td>0.291691</td>\n",
       "      <td>0.751343</td>\n",
       "    </tr>\n",
       "    <tr>\n",
       "      <th>2</th>\n",
       "      <td>0.246010</td>\n",
       "      <td>0.253220</td>\n",
       "    </tr>\n",
       "  </tbody>\n",
       "</table>\n",
       "</div>"
      ],
      "text/plain": [
       "          C         D\n",
       "1  0.291691  0.751343\n",
       "2  0.246010  0.253220"
      ]
     },
     "execution_count": 98,
     "metadata": {},
     "output_type": "execute_result"
    }
   ],
   "source": [
    "newdf.iloc[[0,1], :]"
   ]
  },
  {
   "cell_type": "code",
   "execution_count": 99,
   "id": "0e084cc1",
   "metadata": {},
   "outputs": [
    {
     "data": {
      "text/html": [
       "<div>\n",
       "<style scoped>\n",
       "    .dataframe tbody tr th:only-of-type {\n",
       "        vertical-align: middle;\n",
       "    }\n",
       "\n",
       "    .dataframe tbody tr th {\n",
       "        vertical-align: top;\n",
       "    }\n",
       "\n",
       "    .dataframe thead th {\n",
       "        text-align: right;\n",
       "    }\n",
       "</style>\n",
       "<table border=\"1\" class=\"dataframe\">\n",
       "  <thead>\n",
       "    <tr style=\"text-align: right;\">\n",
       "      <th></th>\n",
       "      <th>C</th>\n",
       "      <th>D</th>\n",
       "    </tr>\n",
       "  </thead>\n",
       "  <tbody>\n",
       "    <tr>\n",
       "      <th>1</th>\n",
       "      <td>0.291691</td>\n",
       "      <td>0.751343</td>\n",
       "    </tr>\n",
       "    <tr>\n",
       "      <th>2</th>\n",
       "      <td>0.246010</td>\n",
       "      <td>0.253220</td>\n",
       "    </tr>\n",
       "  </tbody>\n",
       "</table>\n",
       "</div>"
      ],
      "text/plain": [
       "          C         D\n",
       "1  0.291691  0.751343\n",
       "2  0.246010  0.253220"
      ]
     },
     "execution_count": 99,
     "metadata": {},
     "output_type": "execute_result"
    }
   ],
   "source": [
    "newdf"
   ]
  },
  {
   "cell_type": "code",
   "execution_count": 101,
   "id": "507ef871",
   "metadata": {},
   "outputs": [
    {
     "data": {
      "text/plain": [
       "1    False\n",
       "2    False\n",
       "Name: C, dtype: bool"
      ]
     },
     "execution_count": 101,
     "metadata": {},
     "output_type": "execute_result"
    }
   ],
   "source": [
    "newdf['C'].isnull()"
   ]
  },
  {
   "cell_type": "code",
   "execution_count": 102,
   "id": "90fc75d3",
   "metadata": {},
   "outputs": [],
   "source": [
    "newdf['B'] = None"
   ]
  },
  {
   "cell_type": "code",
   "execution_count": 103,
   "id": "3d61d069",
   "metadata": {},
   "outputs": [
    {
     "data": {
      "text/html": [
       "<div>\n",
       "<style scoped>\n",
       "    .dataframe tbody tr th:only-of-type {\n",
       "        vertical-align: middle;\n",
       "    }\n",
       "\n",
       "    .dataframe tbody tr th {\n",
       "        vertical-align: top;\n",
       "    }\n",
       "\n",
       "    .dataframe thead th {\n",
       "        text-align: right;\n",
       "    }\n",
       "</style>\n",
       "<table border=\"1\" class=\"dataframe\">\n",
       "  <thead>\n",
       "    <tr style=\"text-align: right;\">\n",
       "      <th></th>\n",
       "      <th>C</th>\n",
       "      <th>D</th>\n",
       "      <th>B</th>\n",
       "    </tr>\n",
       "  </thead>\n",
       "  <tbody>\n",
       "    <tr>\n",
       "      <th>1</th>\n",
       "      <td>0.291691</td>\n",
       "      <td>0.751343</td>\n",
       "      <td>None</td>\n",
       "    </tr>\n",
       "    <tr>\n",
       "      <th>2</th>\n",
       "      <td>0.246010</td>\n",
       "      <td>0.253220</td>\n",
       "      <td>None</td>\n",
       "    </tr>\n",
       "  </tbody>\n",
       "</table>\n",
       "</div>"
      ],
      "text/plain": [
       "          C         D     B\n",
       "1  0.291691  0.751343  None\n",
       "2  0.246010  0.253220  None"
      ]
     },
     "execution_count": 103,
     "metadata": {},
     "output_type": "execute_result"
    }
   ],
   "source": [
    "newdf"
   ]
  },
  {
   "cell_type": "code",
   "execution_count": 104,
   "id": "8ef509c8",
   "metadata": {},
   "outputs": [
    {
     "data": {
      "text/plain": [
       "1    True\n",
       "2    True\n",
       "Name: B, dtype: bool"
      ]
     },
     "execution_count": 104,
     "metadata": {},
     "output_type": "execute_result"
    }
   ],
   "source": [
    "newdf['B'].isnull()"
   ]
  },
  {
   "cell_type": "code",
   "execution_count": 115,
   "id": "3547177f",
   "metadata": {},
   "outputs": [],
   "source": [
    "df = pd.DataFrame({\"name\" : ['owais', 'owais', 'saif'],\n",
    "                   \"toy\":[np.nan, np.nan, np.nan],\n",
    "                   \"born\":[pd.NaT, pd.Timestamp(\"1904-04-25\"), pd.NaT]\n",
    "    \n",
    "})"
   ]
  },
  {
   "cell_type": "code",
   "execution_count": 116,
   "id": "7e93216a",
   "metadata": {},
   "outputs": [
    {
     "data": {
      "text/html": [
       "<div>\n",
       "<style scoped>\n",
       "    .dataframe tbody tr th:only-of-type {\n",
       "        vertical-align: middle;\n",
       "    }\n",
       "\n",
       "    .dataframe tbody tr th {\n",
       "        vertical-align: top;\n",
       "    }\n",
       "\n",
       "    .dataframe thead th {\n",
       "        text-align: right;\n",
       "    }\n",
       "</style>\n",
       "<table border=\"1\" class=\"dataframe\">\n",
       "  <thead>\n",
       "    <tr style=\"text-align: right;\">\n",
       "      <th></th>\n",
       "      <th>name</th>\n",
       "      <th>toy</th>\n",
       "      <th>born</th>\n",
       "    </tr>\n",
       "  </thead>\n",
       "  <tbody>\n",
       "    <tr>\n",
       "      <th>0</th>\n",
       "      <td>owais</td>\n",
       "      <td>NaN</td>\n",
       "      <td>NaT</td>\n",
       "    </tr>\n",
       "    <tr>\n",
       "      <th>1</th>\n",
       "      <td>owais</td>\n",
       "      <td>NaN</td>\n",
       "      <td>1904-04-25</td>\n",
       "    </tr>\n",
       "    <tr>\n",
       "      <th>2</th>\n",
       "      <td>saif</td>\n",
       "      <td>NaN</td>\n",
       "      <td>NaT</td>\n",
       "    </tr>\n",
       "  </tbody>\n",
       "</table>\n",
       "</div>"
      ],
      "text/plain": [
       "    name  toy       born\n",
       "0  owais  NaN        NaT\n",
       "1  owais  NaN 1904-04-25\n",
       "2   saif  NaN        NaT"
      ]
     },
     "execution_count": 116,
     "metadata": {},
     "output_type": "execute_result"
    }
   ],
   "source": [
    "df.head()"
   ]
  },
  {
   "cell_type": "code",
   "execution_count": 117,
   "id": "44f6f253",
   "metadata": {},
   "outputs": [
    {
     "data": {
      "text/html": [
       "<div>\n",
       "<style scoped>\n",
       "    .dataframe tbody tr th:only-of-type {\n",
       "        vertical-align: middle;\n",
       "    }\n",
       "\n",
       "    .dataframe tbody tr th {\n",
       "        vertical-align: top;\n",
       "    }\n",
       "\n",
       "    .dataframe thead th {\n",
       "        text-align: right;\n",
       "    }\n",
       "</style>\n",
       "<table border=\"1\" class=\"dataframe\">\n",
       "  <thead>\n",
       "    <tr style=\"text-align: right;\">\n",
       "      <th></th>\n",
       "      <th>name</th>\n",
       "      <th>born</th>\n",
       "    </tr>\n",
       "  </thead>\n",
       "  <tbody>\n",
       "    <tr>\n",
       "      <th>0</th>\n",
       "      <td>owais</td>\n",
       "      <td>NaT</td>\n",
       "    </tr>\n",
       "    <tr>\n",
       "      <th>1</th>\n",
       "      <td>owais</td>\n",
       "      <td>1904-04-25</td>\n",
       "    </tr>\n",
       "    <tr>\n",
       "      <th>2</th>\n",
       "      <td>saif</td>\n",
       "      <td>NaT</td>\n",
       "    </tr>\n",
       "  </tbody>\n",
       "</table>\n",
       "</div>"
      ],
      "text/plain": [
       "    name       born\n",
       "0  owais        NaT\n",
       "1  owais 1904-04-25\n",
       "2   saif        NaT"
      ]
     },
     "execution_count": 117,
     "metadata": {},
     "output_type": "execute_result"
    }
   ],
   "source": [
    "df.dropna(how='all', axis=1)"
   ]
  },
  {
   "cell_type": "code",
   "execution_count": 118,
   "id": "b93f450b",
   "metadata": {},
   "outputs": [
    {
     "data": {
      "text/html": [
       "<div>\n",
       "<style scoped>\n",
       "    .dataframe tbody tr th:only-of-type {\n",
       "        vertical-align: middle;\n",
       "    }\n",
       "\n",
       "    .dataframe tbody tr th {\n",
       "        vertical-align: top;\n",
       "    }\n",
       "\n",
       "    .dataframe thead th {\n",
       "        text-align: right;\n",
       "    }\n",
       "</style>\n",
       "<table border=\"1\" class=\"dataframe\">\n",
       "  <thead>\n",
       "    <tr style=\"text-align: right;\">\n",
       "      <th></th>\n",
       "      <th>name</th>\n",
       "      <th>toy</th>\n",
       "      <th>born</th>\n",
       "    </tr>\n",
       "  </thead>\n",
       "  <tbody>\n",
       "    <tr>\n",
       "      <th>0</th>\n",
       "      <td>owais</td>\n",
       "      <td>NaN</td>\n",
       "      <td>NaT</td>\n",
       "    </tr>\n",
       "    <tr>\n",
       "      <th>1</th>\n",
       "      <td>owais</td>\n",
       "      <td>NaN</td>\n",
       "      <td>1904-04-25</td>\n",
       "    </tr>\n",
       "    <tr>\n",
       "      <th>2</th>\n",
       "      <td>saif</td>\n",
       "      <td>NaN</td>\n",
       "      <td>NaT</td>\n",
       "    </tr>\n",
       "  </tbody>\n",
       "</table>\n",
       "</div>"
      ],
      "text/plain": [
       "    name  toy       born\n",
       "0  owais  NaN        NaT\n",
       "1  owais  NaN 1904-04-25\n",
       "2   saif  NaN        NaT"
      ]
     },
     "execution_count": 118,
     "metadata": {},
     "output_type": "execute_result"
    }
   ],
   "source": [
    "df"
   ]
  },
  {
   "cell_type": "code",
   "execution_count": 120,
   "id": "21e82420",
   "metadata": {},
   "outputs": [
    {
     "data": {
      "text/html": [
       "<div>\n",
       "<style scoped>\n",
       "    .dataframe tbody tr th:only-of-type {\n",
       "        vertical-align: middle;\n",
       "    }\n",
       "\n",
       "    .dataframe tbody tr th {\n",
       "        vertical-align: top;\n",
       "    }\n",
       "\n",
       "    .dataframe thead th {\n",
       "        text-align: right;\n",
       "    }\n",
       "</style>\n",
       "<table border=\"1\" class=\"dataframe\">\n",
       "  <thead>\n",
       "    <tr style=\"text-align: right;\">\n",
       "      <th></th>\n",
       "      <th>name</th>\n",
       "      <th>toy</th>\n",
       "      <th>born</th>\n",
       "    </tr>\n",
       "  </thead>\n",
       "  <tbody>\n",
       "    <tr>\n",
       "      <th>2</th>\n",
       "      <td>saif</td>\n",
       "      <td>NaN</td>\n",
       "      <td>NaT</td>\n",
       "    </tr>\n",
       "  </tbody>\n",
       "</table>\n",
       "</div>"
      ],
      "text/plain": [
       "   name  toy born\n",
       "2  saif  NaN  NaT"
      ]
     },
     "execution_count": 120,
     "metadata": {},
     "output_type": "execute_result"
    }
   ],
   "source": [
    "df.drop_duplicates(subset=['name'], keep=False)"
   ]
  },
  {
   "cell_type": "code",
   "execution_count": 122,
   "id": "d0ae7faf",
   "metadata": {},
   "outputs": [
    {
     "data": {
      "text/plain": [
       "(3, 3)"
      ]
     },
     "execution_count": 122,
     "metadata": {},
     "output_type": "execute_result"
    }
   ],
   "source": [
    "df.shape"
   ]
  },
  {
   "cell_type": "code",
   "execution_count": 123,
   "id": "e10953d8",
   "metadata": {},
   "outputs": [
    {
     "data": {
      "text/plain": [
       "<bound method DataFrame.info of     name  toy       born\n",
       "0  owais  NaN        NaT\n",
       "1  owais  NaN 1904-04-25\n",
       "2   saif  NaN        NaT>"
      ]
     },
     "execution_count": 123,
     "metadata": {},
     "output_type": "execute_result"
    }
   ],
   "source": [
    "df.info"
   ]
  },
  {
   "cell_type": "code",
   "execution_count": 124,
   "id": "4b6b02dd",
   "metadata": {},
   "outputs": [
    {
     "data": {
      "text/plain": [
       "owais    2\n",
       "saif     1\n",
       "Name: name, dtype: int64"
      ]
     },
     "execution_count": 124,
     "metadata": {},
     "output_type": "execute_result"
    }
   ],
   "source": [
    "df['name'].value_counts(dropna=False)"
   ]
  },
  {
   "cell_type": "code",
   "execution_count": 125,
   "id": "d26c45f8",
   "metadata": {},
   "outputs": [
    {
     "data": {
      "text/plain": [
       "owais    2\n",
       "saif     1\n",
       "Name: name, dtype: int64"
      ]
     },
     "execution_count": 125,
     "metadata": {},
     "output_type": "execute_result"
    }
   ],
   "source": [
    "df['name'].value_counts(dropna=True)"
   ]
  },
  {
   "cell_type": "code",
   "execution_count": 126,
   "id": "eaa32d6d",
   "metadata": {},
   "outputs": [
    {
     "data": {
      "text/html": [
       "<div>\n",
       "<style scoped>\n",
       "    .dataframe tbody tr th:only-of-type {\n",
       "        vertical-align: middle;\n",
       "    }\n",
       "\n",
       "    .dataframe tbody tr th {\n",
       "        vertical-align: top;\n",
       "    }\n",
       "\n",
       "    .dataframe thead th {\n",
       "        text-align: right;\n",
       "    }\n",
       "</style>\n",
       "<table border=\"1\" class=\"dataframe\">\n",
       "  <thead>\n",
       "    <tr style=\"text-align: right;\">\n",
       "      <th></th>\n",
       "      <th>name</th>\n",
       "      <th>toy</th>\n",
       "      <th>born</th>\n",
       "    </tr>\n",
       "  </thead>\n",
       "  <tbody>\n",
       "    <tr>\n",
       "      <th>0</th>\n",
       "      <td>False</td>\n",
       "      <td>True</td>\n",
       "      <td>True</td>\n",
       "    </tr>\n",
       "    <tr>\n",
       "      <th>1</th>\n",
       "      <td>False</td>\n",
       "      <td>True</td>\n",
       "      <td>False</td>\n",
       "    </tr>\n",
       "    <tr>\n",
       "      <th>2</th>\n",
       "      <td>False</td>\n",
       "      <td>True</td>\n",
       "      <td>True</td>\n",
       "    </tr>\n",
       "  </tbody>\n",
       "</table>\n",
       "</div>"
      ],
      "text/plain": [
       "    name   toy   born\n",
       "0  False  True   True\n",
       "1  False  True  False\n",
       "2  False  True   True"
      ]
     },
     "execution_count": 126,
     "metadata": {},
     "output_type": "execute_result"
    }
   ],
   "source": [
    "df.isnull()"
   ]
  },
  {
   "cell_type": "code",
   "execution_count": null,
   "id": "5c3cdd83",
   "metadata": {},
   "outputs": [],
   "source": [
    "# to read the excel file\n",
    "# data = pd.read_excel('file_name', sheet_name='name_of_sheet')"
   ]
  }
 ],
 "metadata": {
  "kernelspec": {
   "display_name": "Python 3 (ipykernel)",
   "language": "python",
   "name": "python3"
  },
  "language_info": {
   "codemirror_mode": {
    "name": "ipython",
    "version": 3
   },
   "file_extension": ".py",
   "mimetype": "text/x-python",
   "name": "python",
   "nbconvert_exporter": "python",
   "pygments_lexer": "ipython3",
   "version": "3.9.13"
  }
 },
 "nbformat": 4,
 "nbformat_minor": 5
}
